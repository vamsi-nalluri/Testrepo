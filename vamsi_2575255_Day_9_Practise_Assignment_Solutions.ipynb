{
 "cells": [
  {
   "cell_type": "code",
   "execution_count": 20,
   "id": "7b3899e8",
   "metadata": {},
   "outputs": [],
   "source": [
    "import numpy as np"
   ]
  },
  {
   "cell_type": "markdown",
   "id": "36112caa",
   "metadata": {},
   "source": [
    "# 1. Create a 3x3x3 array with random values\n",
    "\n"
   ]
  },
  {
   "cell_type": "code",
   "execution_count": 22,
   "id": "b066f21c",
   "metadata": {},
   "outputs": [
    {
     "data": {
      "text/plain": [
       "array([[[0.38125029, 0.48353589, 0.19516467],\n",
       "        [0.25392941, 0.76800923, 0.66485899],\n",
       "        [0.90081194, 0.51295472, 0.32717814]],\n",
       "\n",
       "       [[0.56491875, 0.21040801, 0.02224823],\n",
       "        [0.74802359, 0.23660528, 0.67159506],\n",
       "        [0.14884567, 0.25039245, 0.52408148]],\n",
       "\n",
       "       [[0.7647872 , 0.78846352, 0.7363317 ],\n",
       "        [0.1253531 , 0.5584575 , 0.91985484],\n",
       "        [0.34238013, 0.14298533, 0.80062058]]])"
      ]
     },
     "execution_count": 22,
     "metadata": {},
     "output_type": "execute_result"
    }
   ],
   "source": [
    "v=np.random.random((3,3,3))\n",
    "v"
   ]
  },
  {
   "cell_type": "markdown",
   "id": "fb6e4bf7",
   "metadata": {},
   "source": [
    "# 2.Create a 5x5 matrix with values 1,2,3,4 just below the diagonal\n",
    "\n"
   ]
  },
  {
   "cell_type": "code",
   "execution_count": 30,
   "id": "9a30e36a",
   "metadata": {},
   "outputs": [
    {
     "data": {
      "text/plain": [
       "array([[0., 0., 0., 0., 0.],\n",
       "       [1., 0., 0., 0., 0.],\n",
       "       [2., 2., 0., 0., 0.],\n",
       "       [3., 3., 3., 0., 0.],\n",
       "       [4., 4., 4., 4., 0.]])"
      ]
     },
     "execution_count": 30,
     "metadata": {},
     "output_type": "execute_result"
    }
   ],
   "source": [
    "v=np.zeros((5,5))\n",
    "a=[1,2,3,4]\n",
    "for i in range(1,5):\n",
    "    for j in range(i):\n",
    "        v[i,j]=a[i-1]\n",
    "v"
   ]
  },
  {
   "cell_type": "markdown",
   "id": "03f96e73",
   "metadata": {},
   "source": [
    "# 3.Create a 8x8 matrix and fill it with a checkerboard pattern\n",
    "\n"
   ]
  },
  {
   "cell_type": "code",
   "execution_count": 46,
   "id": "1793c9f4",
   "metadata": {},
   "outputs": [
    {
     "data": {
      "text/plain": [
       "array([[0, 1, 0, 1, 0, 1, 0, 1],\n",
       "       [1, 0, 1, 0, 1, 0, 1, 0],\n",
       "       [0, 1, 0, 1, 0, 1, 0, 1],\n",
       "       [1, 0, 1, 0, 1, 0, 1, 0],\n",
       "       [0, 1, 0, 1, 0, 1, 0, 1],\n",
       "       [1, 0, 1, 0, 1, 0, 1, 0],\n",
       "       [0, 1, 0, 1, 0, 1, 0, 1],\n",
       "       [1, 0, 1, 0, 1, 0, 1, 0]])"
      ]
     },
     "execution_count": 46,
     "metadata": {},
     "output_type": "execute_result"
    }
   ],
   "source": [
    "v=np.zeros((8,8), dtype=int)\n",
    "v[1::2,::2]=1\n",
    "v[::2,1::2]=1\n",
    "v"
   ]
  },
  {
   "cell_type": "markdown",
   "id": "340d7d13",
   "metadata": {},
   "source": [
    "# 4. Normalize a 5x5 random matrix\n",
    "\n"
   ]
  },
  {
   "cell_type": "code",
   "execution_count": 54,
   "id": "6b251fb4",
   "metadata": {},
   "outputs": [
    {
     "data": {
      "text/plain": [
       "array([[0.01778704, 0.06901255, 0.01290044, 0.07603354, 0.00480513],\n",
       "       [0.01415635, 0.00742188, 0.0007627 , 0.05687931, 0.04369427],\n",
       "       [0.00264224, 0.07925914, 0.02314345, 0.07591484, 0.05781745],\n",
       "       [0.01037796, 0.04896068, 0.05739056, 0.06715839, 0.07308945],\n",
       "       [0.00170909, 0.05537463, 0.06577292, 0.00335065, 0.07458534]])"
      ]
     },
     "execution_count": 54,
     "metadata": {},
     "output_type": "execute_result"
    }
   ],
   "source": [
    "v=np.random.random((5,5))\n",
    "a=np.sum(v)\n",
    "for i in range(len(v)):\n",
    "    for j in range(len(v)):\n",
    "        v[i][j]=(v[i][j]/a)\n",
    "v"
   ]
  },
  {
   "cell_type": "markdown",
   "id": "8b60b81f",
   "metadata": {},
   "source": [
    "# 5. How to find common values between two arrays?\n",
    "\n"
   ]
  },
  {
   "cell_type": "code",
   "execution_count": 66,
   "id": "51e030bb",
   "metadata": {},
   "outputs": [
    {
     "name": "stdout",
     "output_type": "stream",
     "text": [
      "[1]\n"
     ]
    }
   ],
   "source": [
    "v=np.random.randint((4,4))\n",
    "a=np.random.randint((4,4))\n",
    "print(np.intersect1d(v,a))"
   ]
  },
  {
   "cell_type": "markdown",
   "id": "9a1d15c9",
   "metadata": {},
   "source": [
    "# 6.How to get the dates of yesterday, today and tomorrow?\n"
   ]
  },
  {
   "cell_type": "code",
   "execution_count": 100,
   "id": "903a4cdb",
   "metadata": {},
   "outputs": [
    {
     "name": "stdout",
     "output_type": "stream",
     "text": [
      "Yesterday date:  2023-09-20\n",
      "\n",
      "Today date:  2023-09-21\n",
      "\n",
      "Tommarow date:  2023-09-22\n"
     ]
    }
   ],
   "source": [
    "import datetime\n",
    "cur = datetime.datetime.today()\n",
    "y=cur-datetime.timedelta(days=1)\n",
    "t=cur+datetime.timedelta(days=1)\n",
    "\n",
    "print(\"Yesterday date: \",y.date())\n",
    "print(\"\\nToday date: \",current_datetime.date())\n",
    "print(\"\\nTommarow date: \",t.date())\n"
   ]
  },
  {
   "cell_type": "markdown",
   "id": "2c501686",
   "metadata": {},
   "source": [
    "# 7. Consider two random array A and B, check if they are equal"
   ]
  },
  {
   "cell_type": "code",
   "execution_count": 130,
   "id": "bf7e6934",
   "metadata": {},
   "outputs": [
    {
     "name": "stdout",
     "output_type": "stream",
     "text": [
      "A named array:\n",
      " [[0.61142056 0.88193427 0.54839985 0.62729591]\n",
      " [0.61443592 0.61891676 0.80016284 0.31394646]\n",
      " [0.84789198 0.24944168 0.26223558 0.71908325]\n",
      " [0.8725358  0.3214082  0.88042031 0.83659772]]\n",
      "\n",
      "B named array:\n",
      " [[0.59815869 0.02890833 0.79688193 0.49881902]\n",
      " [0.25348925 0.06136838 0.29227338 0.81614917]\n",
      " [0.53067439 0.8411785  0.65269869 0.55322675]\n",
      " [0.31286411 0.94278403 0.21960747 0.6773106 ]]\n",
      "\n",
      "NO They are Not Equal\n"
     ]
    }
   ],
   "source": [
    "A=np.random.random((4,4))\n",
    "B=np.random.random((4,4))\n",
    "print(\"A named array:\\n\",A)\n",
    "\n",
    "print(\"\\nB named array:\\n\",B)\n",
    "if np.array_equal(A,B):\n",
    "    print(\"\\nYES They are Equal\")\n",
    "else:\n",
    "    print(\"\\nNO They are Not Equal\")"
   ]
  },
  {
   "cell_type": "markdown",
   "id": "01a38689",
   "metadata": {},
   "source": [
    "# 8.Create random vector of size 10 and replace the maximum value by 0\n"
   ]
  },
  {
   "cell_type": "code",
   "execution_count": 114,
   "id": "b05f91b4",
   "metadata": {},
   "outputs": [
    {
     "name": "stdout",
     "output_type": "stream",
     "text": [
      "[0.19099312 0.48743364 0.4063593  0.289029   0.55882282 0.45506939\n",
      " 0.25168854 0.         0.1125715  0.57911593]\n"
     ]
    }
   ],
   "source": [
    "v=np.random.rand(10)\n",
    "a=v.argmax()\n",
    "v[a]=0\n",
    "print(v)\n"
   ]
  },
  {
   "cell_type": "markdown",
   "id": "f9405f1c",
   "metadata": {},
   "source": [
    "# 9. How to print all the values of an array?\n",
    "\n",
    "\n",
    "\n",
    "\n"
   ]
  },
  {
   "cell_type": "code",
   "execution_count": 132,
   "id": "9c1849c2",
   "metadata": {},
   "outputs": [
    {
     "name": "stdout",
     "output_type": "stream",
     "text": [
      "0.13938141749091426\n",
      "0.8561065609249477\n",
      "0.4374922492101264\n",
      "0.911420902248453\n",
      "0.015135122866460238\n",
      "0.485914716412143\n",
      "0.07562494064804715\n",
      "0.8180008474722769\n",
      "0.5502024817204308\n"
     ]
    }
   ],
   "source": [
    "v=np.random.random((3,3))\n",
    "for i in v.flat:\n",
    "    print(i)"
   ]
  },
  {
   "cell_type": "markdown",
   "id": "969dc654",
   "metadata": {},
   "source": [
    "# 10.Subtract the mean of each row of a matrix"
   ]
  },
  {
   "cell_type": "code",
   "execution_count": 154,
   "id": "1d00a67d",
   "metadata": {},
   "outputs": [
    {
     "name": "stdout",
     "output_type": "stream",
     "text": [
      "Before\n",
      " [[0.72634347 0.75790882 0.04876894 0.54673523 0.47621884]\n",
      " [0.03262832 0.21995391 0.46402135 0.39499771 0.22107825]\n",
      " [0.4894071  0.76836705 0.2904591  0.69135602 0.07268628]\n",
      " [0.56753023 0.36882411 0.03282586 0.91751663 0.4551666 ]\n",
      " [0.98419207 0.21028618 0.47932517 0.7897734  0.239366  ]]\n",
      "\n",
      "Mean\n",
      " [0.51119506 0.26653591 0.46245511 0.46837269 0.54058856]\n",
      "\n",
      "After\n",
      " [[ 0.21514841  0.24671376 -0.46242612  0.03554017 -0.03497622]\n",
      " [-0.23390759 -0.046582    0.19748544  0.1284618  -0.04545766]\n",
      " [ 0.02695199  0.30591194 -0.17199601  0.22890091 -0.38976883]\n",
      " [ 0.09915754 -0.09954857 -0.43554682  0.44914394 -0.01320608]\n",
      " [ 0.4436035  -0.33030238 -0.0612634   0.24918484 -0.30122256]]\n"
     ]
    }
   ],
   "source": [
    "v=np.random.random((5,5))\n",
    "print(\"Before\\n\",v)\n",
    "m=v.mean(axis=1)\n",
    "print(\"\\nMean\\n\",m)\n",
    "v-=m[:,np.newaxis]\n",
    "print(\"\\nAfter\\n\",v)"
   ]
  },
  {
   "cell_type": "markdown",
   "id": "99ee5aa0",
   "metadata": {},
   "source": [
    "# 11.Consider a given vector, how to add 1 to each element indexed by a second vector (be careful with repeated indices)?\n"
   ]
  },
  {
   "cell_type": "code",
   "execution_count": 190,
   "id": "6e97a1a6",
   "metadata": {},
   "outputs": [
    {
     "data": {
      "text/plain": [
       "array([[ 2,  2,  3,  4],\n",
       "       [ 5,  6,  8,  8],\n",
       "       [ 9, 11, 11, 12],\n",
       "       [13, 14, 15, 17]])"
      ]
     },
     "execution_count": 190,
     "metadata": {},
     "output_type": "execute_result"
    }
   ],
   "source": [
    "v=np.array([[1,2,3,4,],[5,6,7,8],[9,10,11,12],[13,14,15,16]])\n",
    "a=np.array([0,2,1,3])\n",
    "v[np.arange(len(v)),a]+=1\n",
    "v"
   ]
  },
  {
   "cell_type": "markdown",
   "id": "9b924563",
   "metadata": {},
   "source": [
    "# 12.How to get the diagonal of a dot product?\n",
    "\n"
   ]
  },
  {
   "cell_type": "code",
   "execution_count": 180,
   "id": "78a66e6e",
   "metadata": {},
   "outputs": [
    {
     "name": "stdout",
     "output_type": "stream",
     "text": [
      "\n",
      "Diagonal of a dot product \n",
      " [1.2940592  1.45944141 1.95780762 1.0078841 ]\n"
     ]
    }
   ],
   "source": [
    "v=np.random.random((4,4))\n",
    "a=np.random.random((4,4))\n",
    "m=np.dot(v,a)\n",
    "if m.shape[0]==m.shape[1]:\n",
    "    print(\"\\nDiagonal of a dot product \\n\",np.diag(m))\n",
    "else:\n",
    "    print(\"Impossible\")\n",
    "          \n",
    "    "
   ]
  },
  {
   "cell_type": "markdown",
   "id": "f972df27",
   "metadata": {},
   "source": [
    "# 13.How to find the most frequent value in an array?\n",
    "\n"
   ]
  },
  {
   "cell_type": "code",
   "execution_count": 195,
   "id": "3e196830",
   "metadata": {},
   "outputs": [
    {
     "name": "stdout",
     "output_type": "stream",
     "text": [
      "The most frequent value in an array:  2\n"
     ]
    }
   ],
   "source": [
    "import numpy as np\n",
    "x=np.random.randint(0,10,50)\n",
    "print(\"The most frequent value in an array: \",np.bincount(x).argmax())"
   ]
  },
  {
   "cell_type": "markdown",
   "id": "ccf3498c",
   "metadata": {},
   "source": [
    "# 14.How to get the n largest values of an array\n",
    "\n"
   ]
  },
  {
   "cell_type": "code",
   "execution_count": 243,
   "id": "42836867",
   "metadata": {},
   "outputs": [
    {
     "name": "stdout",
     "output_type": "stream",
     "text": [
      "Enter n value: 5\n",
      "The 5 largest values of an array : \t[12 13 14 15 16]\n"
     ]
    }
   ],
   "source": [
    "v=np.array([[1,2,3,4,],[5,6,7,8],[9,10,11,12],[13,14,15,16]])\n",
    "n=int(input(\"Enter n value: \"))\n",
    "m=v.flatten()\n",
    "print(f\"The {n} largest values of an array : \\t{m[np.argsort(m)[-n:]]}\")\n",
    "    \n",
    "    "
   ]
  },
  {
   "cell_type": "markdown",
   "id": "f57086ac",
   "metadata": {},
   "source": [
    "# 15.How to create a record array from a regular array?\n",
    "\n"
   ]
  },
  {
   "cell_type": "code",
   "execution_count": 250,
   "id": "e8666bea",
   "metadata": {},
   "outputs": [
    {
     "name": "stdout",
     "output_type": "stream",
     "text": [
      "Record array: \n",
      " [( 1,  2,  3,  4) ( 5,  6,  7,  8) ( 9, 10, 11, 12) (13, 14, 15, 16)]\n",
      "\n",
      "Record array column1 : \t [ 1  5  9 13]\n",
      "\n",
      "Record array column2 : \t [ 2  6 10 14]\n",
      "\n",
      "Record array column3 : \t [ 3  7 11 15]\n",
      "\n",
      "Record array column4 : \t [ 4  8 12 16]\n"
     ]
    }
   ],
   "source": [
    "v=np.array([[1,2,3,4,],[5,6,7,8],[9,10,11,12],[13,14,15,16]])\n",
    "a=['column1','column2','column3','column4']\n",
    "m=np.rec.fromarrays(v.T,names=a)\n",
    "print(\"Record array: \\n\",m)\n",
    "print(\"\\nRecord array column1 : \\t\",m['column1'])\n",
    "print(\"\\nRecord array column2 : \\t\",m['column2'])\n",
    "print(\"\\nRecord array column3 : \\t\",m['column3'])\n",
    "print(\"\\nRecord array column4 : \\t\",m['column4'])"
   ]
  },
  {
   "cell_type": "markdown",
   "id": "4b2598e1",
   "metadata": {},
   "source": [
    "# 16. How to swap two rows of an array?\n",
    "\n"
   ]
  },
  {
   "cell_type": "code",
   "execution_count": 216,
   "id": "153a94ae",
   "metadata": {},
   "outputs": [
    {
     "data": {
      "text/plain": [
       "array([[ 9, 10, 11, 12],\n",
       "       [ 5,  6,  7,  8],\n",
       "       [ 1,  2,  3,  4],\n",
       "       [13, 14, 15, 16]])"
      ]
     },
     "execution_count": 216,
     "metadata": {},
     "output_type": "execute_result"
    }
   ],
   "source": [
    "v=np.array([[1,2,3,4,],[5,6,7,8],[9,10,11,12],[13,14,15,16]])\n",
    "# print(v[[2,1,0,3]])\n",
    "v[2],v[0]=v[0].copy(),v[2].copy()\n",
    "v"
   ]
  },
  {
   "cell_type": "markdown",
   "id": "cb9f69d4",
   "metadata": {},
   "source": [
    "# 17. Write python code to reshape to the next dimension of numpy array?\n",
    "\n"
   ]
  },
  {
   "cell_type": "code",
   "execution_count": 260,
   "id": "45167409",
   "metadata": {},
   "outputs": [
    {
     "data": {
      "text/plain": [
       "array([ 23,  34, 121,  23,  22,  67, 686, 434, 123])"
      ]
     },
     "execution_count": 260,
     "metadata": {},
     "output_type": "execute_result"
    }
   ],
   "source": [
    "x=np.array([[23,34,121], [23,22,67], [686,434, 123]])\n",
    "x.reshape(-1)"
   ]
  }
 ],
 "metadata": {
  "kernelspec": {
   "display_name": "Python 3 (ipykernel)",
   "language": "python",
   "name": "python3"
  },
  "language_info": {
   "codemirror_mode": {
    "name": "ipython",
    "version": 3
   },
   "file_extension": ".py",
   "mimetype": "text/x-python",
   "name": "python",
   "nbconvert_exporter": "python",
   "pygments_lexer": "ipython3",
   "version": "3.11.4"
  }
 },
 "nbformat": 4,
 "nbformat_minor": 5
}
