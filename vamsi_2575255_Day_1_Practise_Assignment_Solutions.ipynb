{
 "cells": [
  {
   "cell_type": "markdown",
   "id": "f4089cba",
   "metadata": {},
   "source": [
    "# 1.Manipulate using a list.\n",
    "i)To add new elements to the end of the list\n",
    "\n",
    "ii)To reverse elements in the list\n",
    "\n",
    "iii)To display the same list of elements multiple times.\n",
    "\n",
    "iv) To concatenate two list\n",
    "\n",
    "v) To sort the elements in the list in ascending order "
   ]
  },
  {
   "cell_type": "code",
   "execution_count": 2,
   "id": "551cd15c",
   "metadata": {},
   "outputs": [],
   "source": [
    "v=[5,2,1,4,7,8]"
   ]
  },
  {
   "cell_type": "code",
   "execution_count": 6,
   "id": "4aa43a17",
   "metadata": {},
   "outputs": [],
   "source": [
    "#i)To add new elements to the end of the list\n",
    "\n",
    "print(v.append(55))#to add only one element at a time\n",
    "print(v.extend([23,25]))#to add multiple elements at a time"
   ]
  },
  {
   "cell_type": "code",
   "execution_count": 7,
   "id": "6a5e5c5e",
   "metadata": {},
   "outputs": [
    {
     "data": {
      "text/plain": [
       "[5, 2, 1, 4, 7, 8, 55, 23, 25]"
      ]
     },
     "execution_count": 7,
     "metadata": {},
     "output_type": "execute_result"
    }
   ],
   "source": [
    "v"
   ]
  },
  {
   "cell_type": "code",
   "execution_count": 11,
   "id": "c260cda0",
   "metadata": {},
   "outputs": [
    {
     "name": "stdout",
     "output_type": "stream",
     "text": [
      "reversed list: [25, 23, 55, 8, 7, 4, 1, 2, 5]\n"
     ]
    }
   ],
   "source": [
    "#ii)To reverse elements in the list\n",
    "v.reverse()#function that is used to reverse a list.\n",
    "print(\"reversed list:\",v)"
   ]
  },
  {
   "cell_type": "code",
   "execution_count": 16,
   "id": "557a310e",
   "metadata": {},
   "outputs": [
    {
     "name": "stdout",
     "output_type": "stream",
     "text": [
      "\n",
      " [25, 23, 55, 8, 7, 4, 1, 2, 5, 25, 23, 55, 8, 7, 4, 1, 2, 5, 25, 23, 55, 8, 7, 4, 1, 2, 5, 25, 23, 55, 8, 7, 4, 1, 2, 5, 25, 23, 55, 8, 7, 4, 1, 2, 5]\n"
     ]
    }
   ],
   "source": [
    "#iii)To display the same list of elements multiple times.\n",
    "\n",
    "print(v*5) #here i used 5 as no of times that i want to print."
   ]
  },
  {
   "cell_type": "code",
   "execution_count": 21,
   "id": "a2e20c8e",
   "metadata": {},
   "outputs": [
    {
     "name": "stdout",
     "output_type": "stream",
     "text": [
      "[25, 23, 55, 8, 7, 4, 1, 2, 5, 'krishna', 15, 1, 81, 45, 56, 'vamsi']\n"
     ]
    }
   ],
   "source": [
    "#iv) To concatenate two list\n",
    "a=['krishna',15,1,81,45,56,'vamsi']\n",
    "m=v+a #concatination using \"+\".\n",
    "print(m)"
   ]
  },
  {
   "cell_type": "code",
   "execution_count": 26,
   "id": "6705a59d",
   "metadata": {},
   "outputs": [
    {
     "data": {
      "text/plain": [
       "[1, 2, 4, 5, 7, 8, 23, 25, 55]"
      ]
     },
     "execution_count": 26,
     "metadata": {},
     "output_type": "execute_result"
    }
   ],
   "source": [
    "#To sort the elements in the list in ascending order \n",
    "v.sort()#function that is used to sort the list in ascending order.\n",
    "v"
   ]
  },
  {
   "cell_type": "markdown",
   "id": "a0aecc64",
   "metadata": {},
   "source": [
    "# 2. Write a Python program to do in the tuples.\n",
    "\n",
    "i)Manipulate using tuples.\n",
    "\n",
    "ii) To add new elements to the end of the tuples\n",
    "\n",
    "ii)To reverse elements in the list\n",
    "\n",
    "iv) To display the elements of the same tuple multiple times.\n",
    "\n",
    "v)To concatenate two tuples\n",
    "\n",
    "vi) To sort the elements in the list in ascending order.\n"
   ]
  },
  {
   "cell_type": "code",
   "execution_count": 37,
   "id": "794970a6",
   "metadata": {},
   "outputs": [],
   "source": [
    "vamsi=('v',4,'krish',5)"
   ]
  },
  {
   "cell_type": "code",
   "execution_count": 41,
   "id": "b877d0de",
   "metadata": {
    "scrolled": true
   },
   "outputs": [
    {
     "name": "stdout",
     "output_type": "stream",
     "text": [
      "[8, 5, 9, 25]\n",
      "concatinated tuple: ('v', 4, 'krish', 5, 45, 98, 75, 85)\n",
      "slicing a tuple (45, 75)\n"
     ]
    }
   ],
   "source": [
    "#i)Manipulate using tuples.\n",
    "#we cannot manipulate tuple directly so, we have to use type casting or \n",
    "#create a new tuple and perform operations like concatination,slicing\n",
    "j=(8,5,9,25)  #created a new tuple\n",
    "l=list(j)  #type casting tuple into list\n",
    "print(l)\n",
    "krishna=(45,98,75,85) #created a new tuple\n",
    "print(\"concatinated tuple:\",vamsi+krishna) \n",
    "print(\"slicing a tuple\",krishna[::2])# using slice operater to print elements with 2 increment"
   ]
  },
  {
   "cell_type": "code",
   "execution_count": 47,
   "id": "3584dfd8",
   "metadata": {},
   "outputs": [
    {
     "name": "stdout",
     "output_type": "stream",
     "text": [
      "Achiving reverse of a tuple with slice operater (85, 75, 98, 45)\n"
     ]
    }
   ],
   "source": [
    "#ii)To reverse elements in the list\n",
    "print(\"Achiving reverse of a tuple with slice operater\",krishna[::-1])"
   ]
  },
  {
   "cell_type": "code",
   "execution_count": 49,
   "id": "483c64d1",
   "metadata": {},
   "outputs": [
    {
     "name": "stdout",
     "output_type": "stream",
     "text": [
      "Displaying the elements of the same tuple multiple times\n",
      " (45, 98, 75, 85, 45, 98, 75, 85, 45, 98, 75, 85, 45, 98, 75, 85, 45, 98, 75, 85)\n"
     ]
    }
   ],
   "source": [
    "#iv) To display the elements of the same tuple multiple times.\n",
    "print(\"Displaying the elements of the same tuple multiple times\\n\",krishna*5)"
   ]
  },
  {
   "cell_type": "code",
   "execution_count": 62,
   "id": "972e8154",
   "metadata": {},
   "outputs": [
    {
     "name": "stdout",
     "output_type": "stream",
     "text": [
      "concatenating two tuples\n",
      " ('v', 'a', 'm', 's', 'i')\n"
     ]
    }
   ],
   "source": [
    "#v)To concatenate two tuples\n",
    "a=('v','a','m')\n",
    "b=('s','i')\n",
    "c=a+b\n",
    "print(\"concatenating two tuples\\n\",c)"
   ]
  },
  {
   "cell_type": "code",
   "execution_count": 72,
   "id": "6b8cb3f3",
   "metadata": {},
   "outputs": [
    {
     "name": "stdout",
     "output_type": "stream",
     "text": [
      "['a', 'i', 'm', 's', 'v']\n"
     ]
    }
   ],
   "source": [
    "#vi) To sort the elements in the list in ascending order.\n",
    "d=list(c)\n",
    "d.sort()\n",
    "print(d)"
   ]
  },
  {
   "cell_type": "markdown",
   "id": "dff0d797",
   "metadata": {},
   "source": [
    "# 3. Write a python program to implement the following using list.\n",
    "\n",
    "i)Create a list with integers (minimum 10 numbers)\n",
    "\n",
    "ii) How to display the last number in the list\n",
    "\n",
    "iii)Command for displaying the values from the list [0:4]\n",
    "\n",
    "iv)Command for displaying the values from the list [2:]\n",
    "\n",
    "v)Command for displaying the values from the list [:6]\n"
   ]
  },
  {
   "cell_type": "code",
   "execution_count": 73,
   "id": "8fe57224",
   "metadata": {},
   "outputs": [],
   "source": [
    "# i)Create a list with integers (minimum 10 numbers)\n",
    "ven=[1,5,8,4,7,9,2,3,10,18,91]"
   ]
  },
  {
   "cell_type": "code",
   "execution_count": 81,
   "id": "e42b215c",
   "metadata": {},
   "outputs": [
    {
     "name": "stdout",
     "output_type": "stream",
     "text": [
      "91\n"
     ]
    }
   ],
   "source": [
    "# ii) How to display the last number in the list\n",
    "print(ven[-1]) #using slice operater we can achive it"
   ]
  },
  {
   "cell_type": "code",
   "execution_count": 82,
   "id": "ae6d0d0f",
   "metadata": {},
   "outputs": [
    {
     "name": "stdout",
     "output_type": "stream",
     "text": [
      "[1, 5, 8, 4]\n"
     ]
    }
   ],
   "source": [
    "# iii)Command for displaying the values from the list [0:4]\n",
    "print(ven[0:4])  #it contains starting and ending index"
   ]
  },
  {
   "cell_type": "code",
   "execution_count": 83,
   "id": "f66880d7",
   "metadata": {},
   "outputs": [
    {
     "name": "stdout",
     "output_type": "stream",
     "text": [
      "[8, 4, 7, 9, 2, 3, 10, 18, 91]\n"
     ]
    }
   ],
   "source": [
    "# iv)Command for displaying the values from the list [2:]\n",
    "print(ven[2:])  #it contains starting index"
   ]
  },
  {
   "cell_type": "code",
   "execution_count": 84,
   "id": "8c38c090",
   "metadata": {},
   "outputs": [
    {
     "name": "stdout",
     "output_type": "stream",
     "text": [
      "[1, 5, 8, 4, 7, 9]\n"
     ]
    }
   ],
   "source": [
    "# v)Command for displaying the values from the list [:6]\n",
    "print(ven[:6])  #it contains ending index"
   ]
  },
  {
   "cell_type": "markdown",
   "id": "98c57922",
   "metadata": {},
   "source": [
    "# 4. Write a Python program: tuple1 = (10,50,20,40,30)\n",
    "\n",
    "i)To display the elements 10 and 50 from tuple1\n",
    "\n",
    "ii)To display the length of a tuple1.\n",
    "\n",
    "iii)To find the minimum element from tuple1\n",
    "\n",
    "iv)To add all elements in the tuple1.\n",
    "\n",
    "v)To display the same tuple1 multiple times"
   ]
  },
  {
   "cell_type": "code",
   "execution_count": 86,
   "id": "bd529665",
   "metadata": {},
   "outputs": [],
   "source": [
    "# 4. Write a Python program: tuple1 = (10,50,20,40,30)\n",
    "tuple1 = (10,50,20,40,30)"
   ]
  },
  {
   "cell_type": "code",
   "execution_count": 88,
   "id": "73f6de82",
   "metadata": {},
   "outputs": [
    {
     "name": "stdout",
     "output_type": "stream",
     "text": [
      "(10, 50)\n"
     ]
    }
   ],
   "source": [
    "# i)To display the elements 10 and 50 from tuple1\n",
    "print(tuple1[:2])"
   ]
  },
  {
   "cell_type": "code",
   "execution_count": 91,
   "id": "e7d1f65c",
   "metadata": {},
   "outputs": [
    {
     "name": "stdout",
     "output_type": "stream",
     "text": [
      "5\n"
     ]
    }
   ],
   "source": [
    "# ii)To display the length of a tuple1.\n",
    "print(len(tuple1))  #Achived it by using len function"
   ]
  },
  {
   "cell_type": "code",
   "execution_count": 92,
   "id": "c9da219a",
   "metadata": {},
   "outputs": [
    {
     "name": "stdout",
     "output_type": "stream",
     "text": [
      "10\n"
     ]
    }
   ],
   "source": [
    "# iii)To find the minimum element from tuple1\n",
    "print(min(tuple1))  #Achived it by using min function"
   ]
  },
  {
   "cell_type": "code",
   "execution_count": 93,
   "id": "1597f0e9",
   "metadata": {},
   "outputs": [
    {
     "name": "stdout",
     "output_type": "stream",
     "text": [
      "150\n"
     ]
    }
   ],
   "source": [
    "# iv)To add all elements in the tuple1.\n",
    "print(sum(tuple1))  #Achived it by using sum function"
   ]
  },
  {
   "cell_type": "code",
   "execution_count": 94,
   "id": "2f0ecfd1",
   "metadata": {},
   "outputs": [
    {
     "name": "stdout",
     "output_type": "stream",
     "text": [
      "(10, 50, 20, 40, 30, 10, 50, 20, 40, 30, 10, 50, 20, 40, 30)\n"
     ]
    }
   ],
   "source": [
    "# v)To display the same tuple1 multiple times\n",
    "print(tuple1*3)"
   ]
  },
  {
   "cell_type": "markdown",
   "id": "ba70c6ab",
   "metadata": {},
   "source": [
    "# 5. Write a Python program\n",
    "\n",
    "i)To calculate the length of a string\n",
    "\n",
    "ii)To reverse words in a string\n",
    "\n",
    "iii)To display the same string multiple times\n",
    "\n",
    "iv)To concatenate two strings\n",
    "\n",
    "v)Str1\" South India\", using string slicing to display \"India\"\n"
   ]
  },
  {
   "cell_type": "code",
   "execution_count": 115,
   "id": "93ae4265",
   "metadata": {},
   "outputs": [
    {
     "name": "stdout",
     "output_type": "stream",
     "text": [
      "13\n"
     ]
    }
   ],
   "source": [
    "k='vamsi krishna'\n",
    "# To calculate the length of a string\n",
    "\n",
    "print(len(k))"
   ]
  },
  {
   "cell_type": "code",
   "execution_count": 116,
   "id": "d44cca68",
   "metadata": {},
   "outputs": [
    {
     "name": "stdout",
     "output_type": "stream",
     "text": [
      "krishna vamsi\n"
     ]
    }
   ],
   "source": [
    "# ii)To reverse words in a string\n",
    "r=k.split() # it splits the string where it founds \"space->defualt\"\n",
    "print(\" \".join(r[::-1]))# here i used join operater to print the string which is in list format due to split operation"
   ]
  },
  {
   "cell_type": "code",
   "execution_count": 118,
   "id": "1c7c37b4",
   "metadata": {},
   "outputs": [
    {
     "name": "stdout",
     "output_type": "stream",
     "text": [
      "vamsi krishna vamsi krishna vamsi krishna vamsi krishna vamsi krishna \n"
     ]
    }
   ],
   "source": [
    "# iii)To display the same string multiple times\n",
    "print((k+' ')*5) #just to view clearly i added space for every string and achived it by using *"
   ]
  },
  {
   "cell_type": "code",
   "execution_count": 121,
   "id": "871bbf17",
   "metadata": {},
   "outputs": [
    {
     "name": "stdout",
     "output_type": "stream",
     "text": [
      " Nalluri venkata vamsi krishna\n"
     ]
    }
   ],
   "source": [
    "# iv)To concatenate two strings\n",
    "c=' Nalluri venkata'  #new string\n",
    "print(c+' '+k) #concatination with space in between"
   ]
  },
  {
   "cell_type": "code",
   "execution_count": 129,
   "id": "ffa3ae68",
   "metadata": {},
   "outputs": [
    {
     "name": "stdout",
     "output_type": "stream",
     "text": [
      "India\n"
     ]
    }
   ],
   "source": [
    "# v)Str1\" South India\", using string slicing to display \"India\"\n",
    "str1=\" South India\"\n",
    "print(str1.split()[-1])  # it splits the string where it founds \"space->defualt\""
   ]
  },
  {
   "cell_type": "markdown",
   "id": "e27f98c4",
   "metadata": {},
   "source": [
    "# 6. Perform the following\n",
    "\n",
    "i)Creating the Dictionary.\n",
    "\n",
    "ii)Accessing values and keys in the Dictionary.\n",
    "\n",
    "iii)Updating the dictionary using a function.\n",
    "\n",
    "iv)Clear and delete the dictionary values.\n"
   ]
  },
  {
   "cell_type": "code",
   "execution_count": 179,
   "id": "ea63e4f1",
   "metadata": {},
   "outputs": [],
   "source": [
    "# i)Creating the Dictionary.\n",
    "dic={1:'vamsi',2:'nalluri','krishna':\"venkat\"}"
   ]
  },
  {
   "cell_type": "code",
   "execution_count": 176,
   "id": "acbfceb4",
   "metadata": {},
   "outputs": [
    {
     "name": "stdout",
     "output_type": "stream",
     "text": [
      "Acsessing values through keys:  vamsi\n",
      "Acsessing keys through values:  [1, 2, 'krishna']\n"
     ]
    }
   ],
   "source": [
    "# ii)Accessing values and keys in the Dictionary.\n",
    "print(\"Acsessing values through keys: \",dic[1])\n",
    "l=list(dic.keys()) #here we did type casting and also used \"keys\" function\n",
    "print(\"Acsessing keys through values: \",l)\n"
   ]
  },
  {
   "cell_type": "code",
   "execution_count": 177,
   "id": "24828b7f",
   "metadata": {},
   "outputs": [
    {
     "name": "stdout",
     "output_type": "stream",
     "text": [
      "Enter a new key babu\n",
      "Enter a new value kiran\n",
      "Here is new updated dictionary\n",
      " {1: 'vamsi', 2: 'nalluri', 'krishna': 'venkat', 'babu': 'kiran'}\n"
     ]
    }
   ],
   "source": [
    "# iii)Updating the dictionary using a function.\n",
    "new_key=input(\"Enter a new key \")\n",
    "new_value=input(\"Enter a new value \")\n",
    "def updating_dic(key,value):\n",
    "    dic[key]=value\n",
    "    return dic\n",
    "print(\"Here is new updated dictionary\\n\",updating_dic(new_key,new_value))"
   ]
  },
  {
   "cell_type": "code",
   "execution_count": 182,
   "id": "4a4edb80",
   "metadata": {},
   "outputs": [
    {
     "name": "stdout",
     "output_type": "stream",
     "text": [
      "{1: 'vamsi', 2: 'nalluri', 'krishna': 'venkat'}\n",
      "Results of all clear values in the dictionary:\n",
      " {}\n"
     ]
    }
   ],
   "source": [
    "# iv)Clear and delete the dictionary values.\n",
    "print(dic)\n",
    "dic.clear()\n",
    "print(\"Results of all clear values in the dictionary:\\n\",dic)\n",
    "del dic\n"
   ]
  },
  {
   "cell_type": "code",
   "execution_count": 183,
   "id": "15028b89",
   "metadata": {},
   "outputs": [
    {
     "ename": "NameError",
     "evalue": "name 'dic' is not defined",
     "output_type": "error",
     "traceback": [
      "\u001b[1;31m---------------------------------------------------------------------------\u001b[0m",
      "\u001b[1;31mNameError\u001b[0m                                 Traceback (most recent call last)",
      "Cell \u001b[1;32mIn[183], line 1\u001b[0m\n\u001b[1;32m----> 1\u001b[0m \u001b[38;5;28mprint\u001b[39m(dic)\n",
      "\u001b[1;31mNameError\u001b[0m: name 'dic' is not defined"
     ]
    }
   ],
   "source": [
    "print(dic) #it shows an error because this dictionary is already deleted before this step"
   ]
  },
  {
   "cell_type": "markdown",
   "id": "e30bc7e7",
   "metadata": {},
   "source": [
    "# 7.Python program to insert a number to any position in a list.\n"
   ]
  },
  {
   "cell_type": "code",
   "execution_count": 202,
   "id": "40a5e291",
   "metadata": {},
   "outputs": [
    {
     "name": "stdout",
     "output_type": "stream",
     "text": [
      "Enter the index value where you want to add:  2\n",
      "Enter a new value   2222\n",
      "After successful insertion [2, 5, '2222', 8, 7, 56, 112, 369]\n"
     ]
    }
   ],
   "source": [
    "l=[2,5,8,7,56,112,369]\n",
    "new_index=int(input(\"Enter the index value where you want to add:  \"))\n",
    "if 0<=new_index<=len(l):\n",
    "    new_value=input(\"Enter a new value   \")\n",
    "    l.insert(new_index,new_value) \n",
    "else:\n",
    "    print(\"Please Enter a value in between 0 and \",len(l),'\\n Insertion failed')\n",
    "print(\"After successful insertion\",l)"
   ]
  },
  {
   "cell_type": "markdown",
   "id": "11c2564e",
   "metadata": {},
   "source": [
    "# 8. Python program to delete an element from a list by index\n"
   ]
  },
  {
   "cell_type": "code",
   "execution_count": 211,
   "id": "afcfe4f8",
   "metadata": {
    "scrolled": true
   },
   "outputs": [
    {
     "name": "stdout",
     "output_type": "stream",
     "text": [
      "Enter the index number to delete value: 2\n",
      "deletion successful at index  2 :  30\n"
     ]
    }
   ],
   "source": [
    "l=[10,20,30,40,50,60]\n",
    "a=int(input(\"Enter the index number to delete value: \"))\n",
    "if 0<=a<=len(l):\n",
    "    print(\"Deletion successful at index \",a,\": \",l.pop(a))\n",
    "else:\n",
    "    print(\"Please Enter a value in between 0 and \",len(l),'\\n Deletion failed')"
   ]
  },
  {
   "cell_type": "markdown",
   "id": "89598cb4",
   "metadata": {},
   "source": [
    "# 9 Write a program to display a number from 1 to 100.\n"
   ]
  },
  {
   "cell_type": "code",
   "execution_count": 220,
   "id": "0344b596",
   "metadata": {},
   "outputs": [
    {
     "name": "stdout",
     "output_type": "stream",
     "text": [
      "1 2 3 4 5 6 7 8 9 10 11 12 13 14 15 16 17 18 19 20 21 22 23 24 25 26 27 28 29 30 31 32 33 34 35 36 37 38 39 40 41 42 43 44 45 46 47 48 49 50 51 52 53 54 55 56 57 58 59 60 61 62 63 64 65 66 67 68 69 70 71 72 73 74 75 76 77 78 79 80 81 82 83 84 85 86 87 88 89 90 91 92 93 94 95 96 97 98 99 100 "
     ]
    }
   ],
   "source": [
    "for i in range(1,101):\n",
    "    print(i,end=\" \")"
   ]
  },
  {
   "cell_type": "markdown",
   "id": "d35a4a16",
   "metadata": {},
   "source": [
    "# 10. Write a Python program to find the sum of all items in a tuple.\n"
   ]
  },
  {
   "cell_type": "code",
   "execution_count": 223,
   "id": "3193eadd",
   "metadata": {},
   "outputs": [
    {
     "name": "stdout",
     "output_type": "stream",
     "text": [
      "Enter tuple values with space speration:\n",
      "1 2 3\n",
      "6\n"
     ]
    }
   ],
   "source": [
    "vamsi=input(\"Enter tuple values with space speration:\\n\")\n",
    "krishna=tuple(map(int,vamsi.split()))\n",
    "print(sum(krishna))"
   ]
  },
  {
   "cell_type": "markdown",
   "id": "4c1f7ca7",
   "metadata": {},
   "source": [
    "# 12.A list of words is given. Find the words from the list that have their second character in uppercase\n",
    "ls=['hello','Dear','hOw','ARe','You']"
   ]
  },
  {
   "cell_type": "code",
   "execution_count": 225,
   "id": "9196d625",
   "metadata": {},
   "outputs": [
    {
     "name": "stdout",
     "output_type": "stream",
     "text": [
      "hOw\n",
      "ARe\n"
     ]
    }
   ],
   "source": [
    "ls=['hello','Dear','hOw','ARe','You']\n",
    "for i in ls:\n",
    "    if i[1].isupper():\n",
    "        print(i)"
   ]
  },
  {
   "cell_type": "markdown",
   "id": "e364fca2",
   "metadata": {},
   "source": [
    "# CONTROL STRUCTURES\n",
    "1. Write a python program to find the first N Prime numbers.\n"
   ]
  },
  {
   "cell_type": "code",
   "execution_count": 260,
   "id": "b25b90a7",
   "metadata": {},
   "outputs": [
    {
     "name": "stdout",
     "output_type": "stream",
     "text": [
      "Enter N value: 16\n",
      "Prime numbers are: \n",
      "2 3 5 7 11 13 "
     ]
    }
   ],
   "source": [
    "n=int(input(\"Enter N value: \"))\n",
    "print(\"Prime numbers are: \")\n",
    "for i in range(2,n+1):\n",
    "    c=True\n",
    "    for j in range(2,int(i**0.5)+1):\n",
    "        if (i%j==0):\n",
    "            c=False\n",
    "            break\n",
    "    if c:\n",
    "        print(i,end=\" \")"
   ]
  },
  {
   "cell_type": "markdown",
   "id": "d42a7372",
   "metadata": {},
   "source": [
    "# 2 Write the python code that calculates the salary of an employee. Prompt the user to enter the Basic Salary, HRA, TA, and DA. Add these components to calculate the Gross Salary. Also, deduct 10% of salary from the Gross Salary to be paid as tax and display gross minus tax as net salary\n",
    "\n"
   ]
  },
  {
   "cell_type": "code",
   "execution_count": 264,
   "id": "f5257e2b",
   "metadata": {},
   "outputs": [
    {
     "name": "stdout",
     "output_type": "stream",
     "text": [
      "Enter Basic_Salary : 20000\n",
      "Enter HRA : 1000\n",
      "Enter TA : 1500\n",
      "Enter DA : 500\n",
      "NET SALARY is :  20700.0\n"
     ]
    }
   ],
   "source": [
    "basic_salary=float(input(\"Enter Basic_Salary : \"))\n",
    "hra=float(input(\"Enter HRA : \"))\n",
    "ta=float(input(\"Enter TA : \"))\n",
    "da=float(input(\"Enter DA : \"))\n",
    "gross=basic_salary+hra+ta+da\n",
    "tax=0.10*gross\n",
    "print(\"NET SALARY is : \",(gross-tax))"
   ]
  },
  {
   "cell_type": "markdown",
   "id": "1c1e5004",
   "metadata": {},
   "source": [
    "# 3. Write a python program to search for a string in the given list.\n"
   ]
  },
  {
   "cell_type": "code",
   "execution_count": 274,
   "id": "83cfa0b3",
   "metadata": {},
   "outputs": [
    {
     "name": "stdout",
     "output_type": "stream",
     "text": [
      "Enter the list with space separated values: 1 vamsi 45 krish 5\n",
      "Enter the string that you need to search in list: 56\n",
      "Element not found.\n"
     ]
    }
   ],
   "source": [
    "l1=input(\"Enter the list with space separated values: \")\n",
    "l=l1.split()\n",
    "n=input(\"Enter the string that you need to search in list: \")\n",
    "l = [str(i) for i in l]\n",
    "if n in l:\n",
    "    print(\"YES the element found.\")\n",
    "else:\n",
    "    print(\"Element not found.\")"
   ]
  },
  {
   "cell_type": "markdown",
   "id": "7ceaffcf",
   "metadata": {},
   "source": [
    "# 4. Write a Python function that accepts a string and calculates the number of upper case letters and lower-case letters.\n"
   ]
  },
  {
   "cell_type": "code",
   "execution_count": 286,
   "id": "b9579bca",
   "metadata": {},
   "outputs": [
    {
     "name": "stdout",
     "output_type": "stream",
     "text": [
      "Enter the string: hai im vamsi VAMSI KRISHNA\n",
      "UPPER case letters count is:  12 \n",
      "Lower case letters count is:  10\n"
     ]
    }
   ],
   "source": [
    "n=input(\"Enter the string: \")\n",
    "up,low=0,0\n",
    "for i in n:\n",
    "    if i.isupper():\n",
    "        up+=1\n",
    "    elif i.islower():\n",
    "        low+=1\n",
    "print(\"UPPER case letters count is: \",up,\"\\nLower case letters count is: \",low)"
   ]
  },
  {
   "cell_type": "markdown",
   "id": "2e70329f",
   "metadata": {},
   "source": [
    "# 5. Write a program to display the sum of odd numbers and even numbers that fall between 12 and 37."
   ]
  },
  {
   "cell_type": "code",
   "execution_count": 287,
   "id": "331bd580",
   "metadata": {},
   "outputs": [
    {
     "name": "stdout",
     "output_type": "stream",
     "text": [
      "Sum of ODD numbers that fall between 12 and 37 :  325 \n",
      "Sum of EVEN numbers that fall between 12 and 37 :  312\n"
     ]
    }
   ],
   "source": [
    "o,e=0,0\n",
    "for i in range(12,38):\n",
    "    if i%2==0:\n",
    "        e+=i\n",
    "    else:\n",
    "        o+=i\n",
    "print(\"Sum of ODD numbers that fall between 12 and 37 : \",o,\"\\nSum of EVEN numbers that fall between 12 and 37 : \",e)"
   ]
  },
  {
   "cell_type": "markdown",
   "id": "07511c3e",
   "metadata": {},
   "source": [
    "# 6. Write a python Program to print the table of any number.\n",
    "\n"
   ]
  },
  {
   "cell_type": "code",
   "execution_count": 296,
   "id": "6faa2b8a",
   "metadata": {},
   "outputs": [
    {
     "name": "stdout",
     "output_type": "stream",
     "text": [
      "Enter the table number5\n",
      "Here you go with  5  Table:\n",
      "5 * 1 = 5\n",
      "5 * 2 = 10\n",
      "5 * 3 = 15\n",
      "5 * 4 = 20\n",
      "5 * 5 = 25\n",
      "5 * 6 = 30\n",
      "5 * 7 = 35\n",
      "5 * 8 = 40\n",
      "5 * 9 = 45\n",
      "5 * 10 = 50\n"
     ]
    }
   ],
   "source": [
    "n=int(input(\"Enter the table number\"))\n",
    "print(\"Here you go with \",n,\" Table:\")\n",
    "for i in range(1,11):\n",
    "    print(n,\"*\",i,\"=\",n*i)"
   ]
  },
  {
   "cell_type": "markdown",
   "id": "faffbb9e",
   "metadata": {},
   "source": [
    "# 7. Write a Python program to sum the first 10 prime numbers. "
   ]
  },
  {
   "cell_type": "code",
   "execution_count": 312,
   "id": "b9fde9f0",
   "metadata": {},
   "outputs": [
    {
     "name": "stdout",
     "output_type": "stream",
     "text": [
      "Sum the first 10 prime numbers is : 17\n"
     ]
    }
   ],
   "source": [
    "sum1=0\n",
    "for i in range(2,11):\n",
    "    c=True\n",
    "    for j in range(2,int(i**0.5)+1):\n",
    "        if i%j==0:\n",
    "            c=False\n",
    "            break\n",
    "    if c:\n",
    "        sum1+=i\n",
    "print(\"Sum the first 10 prime numbers is :\",sum1)\n",
    "    "
   ]
  },
  {
   "cell_type": "markdown",
   "id": "693a9a4c",
   "metadata": {},
   "source": [
    "# 8. Write a python program to implement arithmetic operations using nested if statement.\n"
   ]
  },
  {
   "cell_type": "code",
   "execution_count": 318,
   "id": "c24c9f5f",
   "metadata": {},
   "outputs": [
    {
     "name": "stdout",
     "output_type": "stream",
     "text": [
      "Nested if arithmetic operations(addition) a+b=  14\n",
      "Nested if arithmetic operations(subtraction) a-b=  4\n",
      "Nested if arithmetic operations(multiplication) a*b=  45\n",
      "Nested if arithmetic operations(Division) a/b=  1.8\n",
      "Nested if arithmetic operations(Modulo Division) a%b=  4\n",
      "Nested if arithmetic operations(Floar Division) a//b=  1\n",
      "Nested if arithmetic operations(Exponentiation i.e; a^b) a**b=  59049\n"
     ]
    }
   ],
   "source": [
    "#performing a+b when a and b are not null\n",
    "a=9\n",
    "b=5\n",
    "c=2\n",
    "if a and b :\n",
    "    if c and a:\n",
    "        print(\"Nested if arithmetic operations(addition) a+b= \",a+b)\n",
    "        print(\"Nested if arithmetic operations(subtraction) a-b= \",a-b)\n",
    "        print(\"Nested if arithmetic operations(multiplication) a*b= \",a*b)\n",
    "        print(\"Nested if arithmetic operations(Division) a/b= \",a/b)\n",
    "        print(\"Nested if arithmetic operations(Modulo Division) a%b= \",a%b)\n",
    "        print(\"Nested if arithmetic operations(Floar Division) a//b= \",a//b)\n",
    "        print(\"Nested if arithmetic operations(Exponentiation i.e; a^b) a**b= \",a**b)"
   ]
  },
  {
   "cell_type": "markdown",
   "id": "66b585d4",
   "metadata": {},
   "source": [
    "# 9. Write a python program to take the temperature in Celsius and convert it to a Fahrenheit."
   ]
  },
  {
   "cell_type": "code",
   "execution_count": 328,
   "id": "e2d1ba1c",
   "metadata": {},
   "outputs": [
    {
     "name": "stdout",
     "output_type": "stream",
     "text": [
      "Enter the temperature in Celsius: 26\n",
      "Fahrenheit Temperature is:  78.8\n"
     ]
    }
   ],
   "source": [
    "c=float(input(\"Enter the temperature in Celsius: \"))\n",
    "f=(c*9/5)+32\n",
    "print(\"Fahrenheit Temperature is: \",f)"
   ]
  },
  {
   "cell_type": "markdown",
   "id": "2633b109",
   "metadata": {},
   "source": [
    "# 10. Write a python program to find a maximum and minimum number in a list without using an inbuilt function\n"
   ]
  },
  {
   "cell_type": "code",
   "execution_count": 342,
   "id": "740b807b",
   "metadata": {
    "scrolled": true
   },
   "outputs": [
    {
     "name": "stdout",
     "output_type": "stream",
     "text": [
      "Enter a list with space separated integer values : 1 2 3 5 9 6\n",
      "Maximum number in a list  9 \n",
      "Minimum number in the lsit 1\n"
     ]
    }
   ],
   "source": [
    "l=input(\"Enter a list with space separated integer values : \")\n",
    "l1=l.split()\n",
    "max1=int(l1[0])\n",
    "min1=int(l1[0])\n",
    "for i in range(len(l1)):\n",
    "    a=int(l1[i])\n",
    "    if a>max1:\n",
    "        max1=a\n",
    "    elif a<min1:\n",
    "        min1=a  \n",
    "print(\"Maximum number in a list \",max1,\"\\nMinimum number in the lsit\", min1)"
   ]
  },
  {
   "cell_type": "markdown",
   "id": "0338114e",
   "metadata": {},
   "source": [
    "# 11. Write a program in python to print out the number of seconds in 30-day month 30 days, 24 hours in a day, 60 minutes per day, 60 seconds in a minute.\n"
   ]
  },
  {
   "cell_type": "code",
   "execution_count": 345,
   "id": "6aeaa2a7",
   "metadata": {},
   "outputs": [
    {
     "name": "stdout",
     "output_type": "stream",
     "text": [
      "Number of seconds in 30-day month 30 days, 24 hours in a day, 60 minutes per day, 60 seconds in a minute is : 2592000\n"
     ]
    }
   ],
   "source": [
    "No_of_days=30\n",
    "No_of_hours=24\n",
    "No_of_minutes=60\n",
    "NO_of_seconds=60\n",
    "a=No_of_days*No_of_hours*No_of_minutes*NO_of_seconds\n",
    "print(\"Number of seconds in 30-day month 30 days, 24 hours in a day, 60 minutes per day, 60 seconds in a minute is :\",a)"
   ]
  },
  {
   "cell_type": "markdown",
   "id": "01299403",
   "metadata": {},
   "source": [
    "# 12. Write a program in python to print out the number of seconds in a year.\n"
   ]
  },
  {
   "cell_type": "code",
   "execution_count": 351,
   "id": "0887e091",
   "metadata": {
    "scrolled": true
   },
   "outputs": [
    {
     "name": "stdout",
     "output_type": "stream",
     "text": [
      "The number of seconds in a standard year is : 31536000\n",
      "The number of seconds in a leap year is : 31622400\n"
     ]
    }
   ],
   "source": [
    "No_of_standard_year_days=365\n",
    "No_of_leap_year_days=366\n",
    "No_of_hours=24\n",
    "No_of_minutes=60\n",
    "NO_of_seconds=60 \n",
    "a=No_of_standard_year_days * No_of_hours * No_of_minutes * NO_of_seconds\n",
    "b=No_of_leap_year_days*No_of_hours*No_of_minutes*NO_of_seconds\n",
    "print(\"The number of seconds in a standard year is :\",a)\n",
    "print(\"The number of seconds in a leap year is :\",b)"
   ]
  },
  {
   "cell_type": "markdown",
   "id": "3af12c34",
   "metadata": {},
   "source": [
    "# 13. A high-speed train can travel at an average speed of 150 mph, how long will it take a train travelling at this speed to travel from London to Glasgow which is 414 miles away?\n"
   ]
  },
  {
   "cell_type": "code",
   "execution_count": 361,
   "id": "b2450b29",
   "metadata": {},
   "outputs": [
    {
     "name": "stdout",
     "output_type": "stream",
     "text": [
      "2.76 Hours OR\n",
      " 165.6 Minutes\n"
     ]
    }
   ],
   "source": [
    "distance=414\n",
    "speed=150\n",
    "print((distance/speed),\"Hours OR\\n\",((distance/speed)*60),\"Minutes\")"
   ]
  },
  {
   "cell_type": "markdown",
   "id": "10f5d30a",
   "metadata": {},
   "source": [
    "# 14. Write a python program that defines a variable called days in each school year and assign 192 to the variable. The program should then print out the total hours that you spend in school from year 7 to year 11, if each day you spend 6 hours in school days in each school year 192"
   ]
  },
  {
   "cell_type": "code",
   "execution_count": 365,
   "id": "ae04096a",
   "metadata": {},
   "outputs": [
    {
     "name": "stdout",
     "output_type": "stream",
     "text": [
      "Hours psent in school is: 5760\n"
     ]
    }
   ],
   "source": [
    "days_in_year=192\n",
    "starting=7\n",
    "ending=11\n",
    "hours=6\n",
    "no_of_years=ending-starting+1\n",
    "print(\"Hours psent in school is:\",no_of_years*days_in_year*hours)"
   ]
  },
  {
   "cell_type": "markdown",
   "id": "65754d58",
   "metadata": {},
   "source": [
    "\n",
    "# 15 if the age of Ram Sam and Khan are input through the keyboard, write a python program to determine the eldest and youngest of the three\n",
    "\n"
   ]
  },
  {
   "cell_type": "code",
   "execution_count": 367,
   "id": "6f114a49",
   "metadata": {},
   "outputs": [
    {
     "name": "stdout",
     "output_type": "stream",
     "text": [
      "Enter Age of RAM:25\n",
      "Enter Age of SAM:22\n",
      "Enter Age of KHAN:12\n",
      "ELDEST of the three is RAM 25\n",
      "YOUNGEST of the three is KHAN 12\n"
     ]
    }
   ],
   "source": [
    "ram_age=int(input(\"Enter Age of RAM:\"))\n",
    "sam_age=int(input(\"Enter Age of SAM:\"))\n",
    "khan_age=int(input(\"Enter Age of KHAN:\"))\n",
    "print(\"ELDEST of the three is RAM\",max(ram_age,sam_age,khan_age))\n",
    "print(\"YOUNGEST of the three is KHAN\",min(ram_age,sam_age,khan_age))"
   ]
  },
  {
   "cell_type": "markdown",
   "id": "043ad2b2",
   "metadata": {},
   "source": [
    "# 16. Write a python program to rotate a list by right is times with and without slicing technique."
   ]
  },
  {
   "cell_type": "code",
   "execution_count": 394,
   "id": "8ec43f76",
   "metadata": {},
   "outputs": [
    {
     "name": "stdout",
     "output_type": "stream",
     "text": [
      "Enter the list with space separated values : 1 2 3 4 5\n",
      "Enter the number to rotate list:2\n",
      "\n",
      "Using slice operater ['4', '5', '1', '2', '3']\n",
      "Without Using slice operater ['4', '5', '1', '2', '3']\n"
     ]
    }
   ],
   "source": [
    "abc=input(\"Enter the list with space separated values : \")\n",
    "m=abc.split()\n",
    "n=int(input(\"Enter the number to rotate list:\"))\n",
    "print(\"\\nUsing slice operater\",m[-n:]+m[:-n])\n",
    "a=len(m)\n",
    "n=n%a\n",
    "new_list=[0]*a\n",
    "for i in range(a):\n",
    "    rotating_index_value=(i+n)%a\n",
    "    new_list[rotating_index_value]=m[i]\n",
    "print(\"Without Using slice operater\",new_list)"
   ]
  },
  {
   "cell_type": "markdown",
   "id": "779e4d34",
   "metadata": {},
   "source": [
    "# 17.Python program to print the patterns given below:"
   ]
  },
  {
   "cell_type": "code",
   "execution_count": 429,
   "id": "36a18a9b",
   "metadata": {},
   "outputs": [
    {
     "name": "stdout",
     "output_type": "stream",
     "text": [
      "Enter the value : 6\n",
      "1 \n",
      "\n",
      "1 1 \n",
      "\n",
      "1 2 1 \n",
      "\n",
      "1 3 3 1 \n",
      "\n",
      "1 4 6 4 1 \n",
      "\n",
      "1 5 10 10 5 1 \n",
      "\n"
     ]
    }
   ],
   "source": [
    "n=int(input(\"Enter the value : \"))\n",
    "for i in range(n):\n",
    "    b=1\n",
    "    for j in range(i+1):\n",
    "        if j==0:\n",
    "            print(b,end=' ')\n",
    "        else:\n",
    "            b=b * (i - j + 1) // j\n",
    "            print(b,end=\" \")\n",
    "    print(\"\\n\")"
   ]
  },
  {
   "cell_type": "code",
   "execution_count": 427,
   "id": "cf33cbbb",
   "metadata": {},
   "outputs": [
    {
     "name": "stdout",
     "output_type": "stream",
     "text": [
      "Enter the value : 10\n",
      "* \n",
      "\n",
      "* * \n",
      "\n",
      "* * * \n",
      "\n",
      "* * * * \n",
      "\n",
      "* * * * * \n",
      "\n",
      "* * * * * * \n",
      "\n",
      "* * * * * * * \n",
      "\n",
      "* * * * * * * * \n",
      "\n",
      "* * * * * * * * * \n",
      "\n",
      "* * * * * * * * * * \n",
      "\n"
     ]
    }
   ],
   "source": [
    "n=int(input(\"Enter the value : \"))\n",
    "for i in range(n):\n",
    "    for j in range(i+1):\n",
    "        print(\"*\",end=\" \")\n",
    "    print(\"\\n\")"
   ]
  },
  {
   "cell_type": "code",
   "execution_count": 415,
   "id": "d6ac8f96",
   "metadata": {},
   "outputs": [
    {
     "name": "stdout",
     "output_type": "stream",
     "text": [
      "Enter the value : 15\n",
      "                * \n",
      "\n",
      "               * * \n",
      "\n",
      "              * * * \n",
      "\n",
      "             * * * * \n",
      "\n",
      "            * * * * * \n",
      "\n",
      "           * * * * * * \n",
      "\n",
      "          * * * * * * * \n",
      "\n",
      "         * * * * * * * * \n",
      "\n",
      "        * * * * * * * * * \n",
      "\n",
      "       * * * * * * * * * * \n",
      "\n",
      "      * * * * * * * * * * * \n",
      "\n",
      "     * * * * * * * * * * * * \n",
      "\n",
      "    * * * * * * * * * * * * * \n",
      "\n",
      "   * * * * * * * * * * * * * * \n",
      "\n",
      "  * * * * * * * * * * * * * * * \n",
      "\n"
     ]
    }
   ],
   "source": [
    "n=int(input(\"Enter the value : \"))\n",
    "for i in range(n):\n",
    "    a=n-i\n",
    "    print(\" \"*a,end=' ')\n",
    "    for j in range(i+1):\n",
    "        print(\"*\",end=\" \")\n",
    "    print(\"\\n\")"
   ]
  },
  {
   "cell_type": "code",
   "execution_count": 417,
   "id": "5ce82772",
   "metadata": {},
   "outputs": [
    {
     "name": "stdout",
     "output_type": "stream",
     "text": [
      "P \n",
      "\n",
      "P y \n",
      "\n",
      "P y t \n",
      "\n",
      "P y t h \n",
      "\n",
      "P y t h o \n",
      "\n",
      "P y t h o n \n",
      "\n"
     ]
    }
   ],
   "source": [
    "n='Python'\n",
    "for i in range(len(n)):\n",
    "    for j in range(i+1):\n",
    "        print(n[j],end=\" \")\n",
    "    print(\"\\n\")"
   ]
  },
  {
   "cell_type": "code",
   "execution_count": null,
   "id": "aa9bdccf",
   "metadata": {},
   "outputs": [],
   "source": []
  }
 ],
 "metadata": {
  "kernelspec": {
   "display_name": "Python 3 (ipykernel)",
   "language": "python",
   "name": "python3"
  },
  "language_info": {
   "codemirror_mode": {
    "name": "ipython",
    "version": 3
   },
   "file_extension": ".py",
   "mimetype": "text/x-python",
   "name": "python",
   "nbconvert_exporter": "python",
   "pygments_lexer": "ipython3",
   "version": "3.11.4"
  }
 },
 "nbformat": 4,
 "nbformat_minor": 5
}
