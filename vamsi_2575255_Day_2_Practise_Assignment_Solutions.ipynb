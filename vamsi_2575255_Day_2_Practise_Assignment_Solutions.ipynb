{
 "cells": [
  {
   "cell_type": "markdown",
   "id": "44f89dd2",
   "metadata": {},
   "source": [
    "# 1. Write a python Function to list even and odd numbers in a list.\n",
    "\n"
   ]
  },
  {
   "cell_type": "code",
   "execution_count": 4,
   "id": "3e0519dd",
   "metadata": {},
   "outputs": [
    {
     "name": "stdout",
     "output_type": "stream",
     "text": [
      "Enter a list with space separated values: 1 2 3 4 56 3\n",
      "EVEN numbers in given list are:  [2, 4, 56]\n",
      "Odd numbers in given list are:  [1, 3, 3]\n"
     ]
    }
   ],
   "source": [
    "l=input(\"Enter a list with space separated values: \")\n",
    "v=list(map(int,l.split()))\n",
    "l1=[]\n",
    "l2=[]\n",
    "for i in v:\n",
    "    if i%2==0:\n",
    "        l1.append(i)\n",
    "    else:\n",
    "        l2.append(i)\n",
    "print(\"EVEN numbers in given list are: \",l1)\n",
    "print(\"Odd numbers in given list are: \",l2)"
   ]
  },
  {
   "cell_type": "markdown",
   "id": "2c62bbb9",
   "metadata": {},
   "source": [
    "# 2. Write and run a Python program that asks the user to enter 8 Integers (one at a time), and then prints out how many of those integers were even numbers. For example, if the user entered 19, 6, 9, 20, 13, 7, 6, and 1, then your program should print out 3 since 3 of those numbers were even.\n"
   ]
  },
  {
   "cell_type": "code",
   "execution_count": 25,
   "id": "2e1c6599",
   "metadata": {},
   "outputs": [
    {
     "name": "stdout",
     "output_type": "stream",
     "text": [
      "Enter 1 integer value: 123\n",
      "Enter 2 integer value: 13\n",
      "Enter 3 integer value: 15\n",
      "Enter 4 integer value: 25\n",
      "Enter 5 integer value: 36\n",
      "Enter 6 integer value: 55\n",
      "Enter 7 integer value: 265\n",
      "Enter 8 integer value: 2\n",
      "EVEN numbers count in given list are:  2\n",
      "Odd numbers count in given list are:  6\n"
     ]
    }
   ],
   "source": [
    "l=[]\n",
    "print(\"Enter 8 integer values one after another: \")\n",
    "for i in range(8):\n",
    "    a=int(input())\n",
    "    l.append(a)\n",
    "l1,l2=0,0\n",
    "for i in l:\n",
    "    if i%2==0:\n",
    "        l1+=1\n",
    "    else:\n",
    "        l2+=1\n",
    "print(\"EVEN numbers count in given list are: \",l1)\n",
    "print(\"Odd numbers count in given list are: \",l2)\n",
    "\n",
    "\n",
    "# ANOTHER WAY\n",
    "\n",
    "# l=[int(input(f\"Enter {i+1} integer value: \"))for i in range(8)]\n",
    "# print(\"EVEN numbers count in given list are: \",len([i for i in l if i%2==0]))\n",
    "# print(\"Odd numbers count in given list are: \",len([i for i in l if i%2!=0]))\n"
   ]
  },
  {
   "cell_type": "markdown",
   "id": "fbd728d8",
   "metadata": {},
   "source": [
    "# 3. Write a Python program where you take any positive integer n, if n is even, divide it by 2 to get n/ 2. If n is odd, multiply it by 3 and add 1 to obtain 3n+ 1. Repeat the process until you reach 1.\n"
   ]
  },
  {
   "cell_type": "code",
   "execution_count": 39,
   "id": "1b2e0258",
   "metadata": {},
   "outputs": [
    {
     "name": "stdout",
     "output_type": "stream",
     "text": [
      "Enter positive integer only : 6\n",
      "6  3.0  10.0  5.0  16.0  8.0  4.0  2.0  1\n"
     ]
    }
   ],
   "source": [
    "def vamsi(n):\n",
    "    while(n!=1):\n",
    "        print(n,end='  ')\n",
    "        if n%2==0:\n",
    "            n=n/2\n",
    "        else:\n",
    "            n=3*n+1\n",
    "    print(1)\n",
    "n=int(input(\"Enter positive integer only : \"))\n",
    "if n<=0:\n",
    "    print(\"Invalid value\")\n",
    "else:\n",
    "    vamsi(n)\n"
   ]
  },
  {
   "cell_type": "markdown",
   "id": "289e6886",
   "metadata": {},
   "source": [
    "# 4. Write a Python program to compute the sum of all the multiples of 3 or 5 below 500.\n"
   ]
  },
  {
   "cell_type": "code",
   "execution_count": 49,
   "id": "aaf6486c",
   "metadata": {},
   "outputs": [
    {
     "name": "stdout",
     "output_type": "stream",
     "text": [
      "Sum of all multiples of 3 below 500 are :  41583\n",
      "Sum of all multiples of 5 below 500 are :  24750\n"
     ]
    }
   ],
   "source": [
    "c=sum(i for i in range(1,500) if i%3==0)\n",
    "d=sum(i for i in range(1,500) if i%5==0)\n",
    "print(\"Sum of all multiples of 3 below 500 are : \",c)\n",
    "print(\"Sum of all multiples of 5 below 500 are : \",d)"
   ]
  },
  {
   "cell_type": "markdown",
   "id": "21f9bd06",
   "metadata": {},
   "source": [
    "# 5. To write a Python program to find first 'n' prime numbers from a list of given numbers.\n"
   ]
  },
  {
   "cell_type": "code",
   "execution_count": 75,
   "id": "078b9e31",
   "metadata": {},
   "outputs": [
    {
     "name": "stdout",
     "output_type": "stream",
     "text": [
      "Enter a list of numbers with space spearated values: \n",
      "1 3 5 11 19 2 6\n",
      "Enter N value : 3\n",
      "first N prime numbers from a list of given numbers.\n",
      "\t 3 \t 5 \t 11 "
     ]
    }
   ],
   "source": [
    "l=input(\"Enter a list of numbers with space spearated values: \\n\")\n",
    "v=list(map(int,l.split()))\n",
    "a=[]\n",
    "for i in v:\n",
    "    t=True\n",
    "    for j in range(2,int(i**0.5)+1):\n",
    "        if i%j==0:\n",
    "            t=False\n",
    "            break\n",
    "    if t and i!=1:\n",
    "        a.append(i)\n",
    "n=int(input(\"Enter N value : \"))\n",
    "if n<=len(a):\n",
    "    print(\"first N prime numbers from a list of given numbers.\")\n",
    "    for i in range(n):\n",
    "        print(\"\\t\",a[i],end=' ')\n",
    "else:\n",
    "    print(\"N value is out of index\")"
   ]
  },
  {
   "cell_type": "markdown",
   "id": "ad85adbe",
   "metadata": {},
   "source": [
    "# 6. To write a Python program to compute matrix multiplication."
   ]
  },
  {
   "cell_type": "code",
   "execution_count": 111,
   "id": "ed0a112f",
   "metadata": {},
   "outputs": [
    {
     "name": "stdout",
     "output_type": "stream",
     "text": [
      "Enter m value for first matrix : 2\n",
      "Enter n value for second matrix : 2\n",
      "Enter the number to be inserted first matrix at 1*1 : 1\n",
      "Enter the number to be inserted first matrix at 1*2 : 2\n",
      "Enter the number to be inserted first matrix at 2*1 : 3\n",
      "Enter the number to be inserted first matrix at 2*2 : 4\n",
      "Enter m1 value for second matrix : 2\n",
      "Enter n1 value for second matrix : 2\n",
      "Enter the number to be inserted in second matrix at 1*1 : 1\n",
      "Enter the number to be inserted in second matrix at 1*2 : 2\n",
      "Enter the number to be inserted in second matrix at 2*1 : 3\n",
      "Enter the number to be inserted in second matrix at 2*2 : 4\n",
      "\n",
      "input first matrix\n",
      "[1, 2]\n",
      "[3, 4]\n",
      "\n",
      "input second matrix\n",
      "[1, 2]\n",
      "[3, 4]\n",
      "\n",
      "MULTIPLIED matrix is :\n",
      "[7, 10]\n",
      "[15, 22]\n"
     ]
    }
   ],
   "source": [
    "m=int(input(\"Enter m value for first matrix : \"))\n",
    "n=int(input(\"Enter n value for second matrix : \"))\n",
    "a=[]\n",
    "c=[]\n",
    "a1=[]\n",
    "for i in range(m):\n",
    "    b=[]\n",
    "    for j in range(n):\n",
    "        ele=int(input(f\"Enter the number to be inserted first matrix at {i+1}*{j+1} : \"))\n",
    "        b.append(ele)\n",
    "    a.append(b)\n",
    "m1=int(input(\"Enter m1 value for second matrix : \"))\n",
    "n1=int(input(\"Enter n1 value for second matrix : \"))\n",
    "for i in range(m1):\n",
    "    b1=[]\n",
    "    for j in range(n1):\n",
    "        ele1=int(input(f\"Enter the number to be inserted in second matrix at {i+1}*{j+1} : \"))\n",
    "        b1.append(ele1)\n",
    "    a1.append(b1)\n",
    "print(\"\\nInput first matrix\")\n",
    "for i in a:\n",
    "    print(i)\n",
    "print(\"\\nInput second matrix\")\n",
    "for i in a1:\n",
    "    print(i)\n",
    "if n==m1:\n",
    "    for _ in range(n1):\n",
    "        d=[]\n",
    "        for _ in range(m):\n",
    "            d.append(0)\n",
    "        c.append(d)\n",
    "    for i in range(m):\n",
    "        for j in range(n1):\n",
    "            for k in range(n):\n",
    "                c[i][j]+=a[i][k]*a1[k][j]\n",
    "    print(\"\\nMULTIPLIED matrix is :\")\n",
    "    for i in c:\n",
    "        print(i)\n",
    "else:\n",
    "    print(\"Matrix multiplication impossible: \")\n",
    "\n"
   ]
  },
  {
   "cell_type": "markdown",
   "id": "61153368",
   "metadata": {},
   "source": [
    "# 7. Write a python Function to count the number of vowels in a string"
   ]
  },
  {
   "cell_type": "code",
   "execution_count": 125,
   "id": "31b0c9df",
   "metadata": {},
   "outputs": [
    {
     "name": "stdout",
     "output_type": "stream",
     "text": [
      "Enter the string : aaaaaaaa\n"
     ]
    },
    {
     "data": {
      "text/plain": [
       "8"
      ]
     },
     "execution_count": 125,
     "metadata": {},
     "output_type": "execute_result"
    }
   ],
   "source": [
    "def vow(n):\n",
    "    c=0\n",
    "    l=['a','e','i','o','u','A','E','I','O','U']\n",
    "    for i in n:\n",
    "        if i in l:\n",
    "            c+=1\n",
    "    return c\n",
    "n=input(\"Enter the string : \")\n",
    "vow(n)"
   ]
  },
  {
   "cell_type": "markdown",
   "id": "19059fed",
   "metadata": {},
   "source": [
    "# 8. Write a python Function for finding factorial for the given number using a recursive"
   ]
  },
  {
   "cell_type": "code",
   "execution_count": 145,
   "id": "52ca9f1e",
   "metadata": {},
   "outputs": [
    {
     "name": "stdout",
     "output_type": "stream",
     "text": [
      "Enter a number to find factorial : 5\n",
      "Factorial of given number is: 120\n"
     ]
    }
   ],
   "source": [
    "def fact(n):\n",
    "    if n==0:\n",
    "        return 1\n",
    "    return n*fact(n-1)\n",
    "n=int(input(\"Enter a number to find factorial : \"))\n",
    "if n<0:\n",
    "    print(\"Invalid input\")\n",
    "else:\n",
    "    print(\"Factorial of given number is:\",fact(n))"
   ]
  },
  {
   "cell_type": "markdown",
   "id": "f07dbd05",
   "metadata": {},
   "source": [
    "# 9. Write a python Function for generating the Fibonacci series using the function.\n"
   ]
  },
  {
   "cell_type": "code",
   "execution_count": 171,
   "id": "beabf3a1",
   "metadata": {},
   "outputs": [
    {
     "name": "stdout",
     "output_type": "stream",
     "text": [
      "Enter a number to find Fibonacci series : 15\n",
      "Fibonacci series of given number is:\n",
      "0 1 1 2 3 5 8 13 21 34 55 89 144 233 377 "
     ]
    }
   ],
   "source": [
    "def fib(n):\n",
    "    if n==0:\n",
    "        return 0\n",
    "    elif n==1:\n",
    "        return 1\n",
    "    elif n>1:\n",
    "        return fib(n-1)+fib(n-2)\n",
    "n=int(input(\"Enter a number to find Fibonacci series : \"))\n",
    "if n<0:\n",
    "    print(\"Invalid input\")\n",
    "else:\n",
    "    print(\"Fibonacci series of given number is:\")\n",
    "    for i in range(0,n):\n",
    "        print(fib(i),end=\" \")"
   ]
  },
  {
   "cell_type": "markdown",
   "id": "9751241e",
   "metadata": {},
   "source": [
    "# 10. Python program to display the given integer in reverse order using the function without an in-built function.\n"
   ]
  },
  {
   "cell_type": "code",
   "execution_count": 183,
   "id": "ff62af88",
   "metadata": {},
   "outputs": [
    {
     "name": "stdout",
     "output_type": "stream",
     "text": [
      "Enter an integer : 123654\n",
      "456321\n"
     ]
    }
   ],
   "source": [
    "n=int(input(\"Enter an integer : \"))\n",
    "if n<0:\n",
    "    print(\"Invalid input\")\n",
    "else:\n",
    "    def rev(n):\n",
    "        b=str(n)\n",
    "        print(b[::-1])\n",
    "    rev(n)"
   ]
  },
  {
   "cell_type": "markdown",
   "id": "703c3654",
   "metadata": {},
   "source": [
    "# 11. Write a Python Function to display all integers within the range 200-300 whose sum of digits is an even number.\n"
   ]
  },
  {
   "cell_type": "code",
   "execution_count": 240,
   "id": "bb05344b",
   "metadata": {},
   "outputs": [
    {
     "name": "stdout",
     "output_type": "stream",
     "text": [
      "\n",
      "sum( 200 )= 2\t \n",
      "sum( 202 )= 4\t \n",
      "sum( 204 )= 6\t \n",
      "sum( 206 )= 8\t \n",
      "sum( 208 )= 10\t \n",
      "sum( 211 )= 4\t \n",
      "sum( 213 )= 6\t \n",
      "sum( 215 )= 8\t \n",
      "sum( 217 )= 10\t \n",
      "sum( 219 )= 12\t \n",
      "sum( 220 )= 4\t \n",
      "sum( 222 )= 6\t \n",
      "sum( 224 )= 8\t \n",
      "sum( 226 )= 10\t \n",
      "sum( 228 )= 12\t \n",
      "sum( 231 )= 6\t \n",
      "sum( 233 )= 8\t \n",
      "sum( 235 )= 10\t \n",
      "sum( 237 )= 12\t \n",
      "sum( 239 )= 14\t \n",
      "sum( 240 )= 6\t \n",
      "sum( 242 )= 8\t \n",
      "sum( 244 )= 10\t \n",
      "sum( 246 )= 12\t \n",
      "sum( 248 )= 14\t \n",
      "sum( 251 )= 8\t \n",
      "sum( 253 )= 10\t \n",
      "sum( 255 )= 12\t \n",
      "sum( 257 )= 14\t \n",
      "sum( 259 )= 16\t \n",
      "sum( 260 )= 8\t \n",
      "sum( 262 )= 10\t \n",
      "sum( 264 )= 12\t \n",
      "sum( 266 )= 14\t \n",
      "sum( 268 )= 16\t \n",
      "sum( 271 )= 10\t \n",
      "sum( 273 )= 12\t \n",
      "sum( 275 )= 14\t \n",
      "sum( 277 )= 16\t \n",
      "sum( 279 )= 18\t \n",
      "sum( 280 )= 10\t \n",
      "sum( 282 )= 12\t \n",
      "sum( 284 )= 14\t \n",
      "sum( 286 )= 16\t \n",
      "sum( 288 )= 18\t \n",
      "sum( 291 )= 12\t \n",
      "sum( 293 )= 14\t \n",
      "sum( 295 )= 16\t \n",
      "sum( 297 )= 18\t \n",
      "sum( 299 )= 20\t "
     ]
    }
   ],
   "source": [
    "def sod(n):\n",
    "    b=list(str(n))\n",
    "    sum1=0\n",
    "    for i in b:\n",
    "        sum1+=int(i)\n",
    "    if sum1%2==0:\n",
    "        return sum1\n",
    "for i in range(200,300):\n",
    "    a=sod(i)\n",
    "    if a:\n",
    "        print('\\nsum(',i,')=',a)\n",
    "\n"
   ]
  },
  {
   "cell_type": "markdown",
   "id": "e0de1978",
   "metadata": {},
   "source": [
    "# 12. Write a python Function to find the number of digits and sum of digits for a given integer\n"
   ]
  },
  {
   "cell_type": "code",
   "execution_count": 248,
   "id": "ee71ce53",
   "metadata": {},
   "outputs": [
    {
     "name": "stdout",
     "output_type": "stream",
     "text": [
      "Enter integer : 5\n",
      "Sum of digits for a given integer : 5\n",
      "Number of digits for a given integer : 1\n"
     ]
    }
   ],
   "source": [
    "def ns(n):\n",
    "    a=list(str(n))\n",
    "    sum1=0\n",
    "    for i in a:\n",
    "        sum1+=int(i)\n",
    "    print(\"Sum of digits for a given integer :\",sum1)\n",
    "    print(\"Number of digits for a given integer :\",len(a))\n",
    "n=int(input(\"Enter integer : \"))\n",
    "if n>0:\n",
    "    ns(n)\n",
    "else:\n",
    "    print(\"Invalid number\")"
   ]
  },
  {
   "cell_type": "markdown",
   "id": "cba95c6c",
   "metadata": {},
   "source": [
    "# 13. Write functions called is sorted that takes a list as a parameter and returns True if the list is sorted in ascending order and False otherwise and has duplicates that takes a list and returns True if there is any element that appears more than once. It should not modify the original list.\n"
   ]
  },
  {
   "cell_type": "code",
   "execution_count": 284,
   "id": "5568387b",
   "metadata": {},
   "outputs": [
    {
     "name": "stdout",
     "output_type": "stream",
     "text": [
      "Enter a list with space separated values: 1 1 2 2 3 6\n",
      "Is Sorted ? True\n",
      "Has duplicates ? True\n"
     ]
    }
   ],
   "source": [
    "def checksort(k):\n",
    "    g=k.copy()\n",
    "    g.sort()\n",
    "    return k==g\n",
    "\n",
    "def duplicates(k):\n",
    "    return len(k)!=len(set(k))\n",
    "\n",
    "n=input(\"Enter a list with space separated values: \")\n",
    "v=n.split()\n",
    "# print(v)\n",
    "print(\"Is Sorted ?\",checksort(v))\n",
    "print(\"Has duplicates ?\",duplicates(v))"
   ]
  },
  {
   "cell_type": "markdown",
   "id": "98d8cede",
   "metadata": {},
   "source": [
    "# 14. Write functions called nested_sum that takes a list of integers and adds up the elements from all the nested lists and cumsum that takes a list of numbers and returns the cumulative sum; that is, a new list where the element is the sum of the first + 1 elements from the original list."
   ]
  },
  {
   "cell_type": "code",
   "execution_count": null,
   "id": "9b60bf4b",
   "metadata": {},
   "outputs": [],
   "source": []
  }
 ],
 "metadata": {
  "kernelspec": {
   "display_name": "Python 3 (ipykernel)",
   "language": "python",
   "name": "python3"
  },
  "language_info": {
   "codemirror_mode": {
    "name": "ipython",
    "version": 3
   },
   "file_extension": ".py",
   "mimetype": "text/x-python",
   "name": "python",
   "nbconvert_exporter": "python",
   "pygments_lexer": "ipython3",
   "version": "3.11.4"
  }
 },
 "nbformat": 4,
 "nbformat_minor": 5
}
