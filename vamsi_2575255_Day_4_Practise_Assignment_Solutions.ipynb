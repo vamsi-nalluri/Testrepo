{
 "cells": [
  {
   "cell_type": "markdown",
   "id": "7f60463a",
   "metadata": {},
   "source": [
    "# 1. Write a python program with Exception handling to input marks for five subjects Physics, Chemistry, Biology, Mathematics, and Computer. Calculate the percentage and grade according\n",
    "\n",
    "to the following:\n",
    "\n",
    "        i) Percentage >=90%: Grade A\n",
    "\n",
    "        ii) Percentage >=80%: Grade B\n",
    "\n",
    "        iii) Percentage >=70%: Grade C\n",
    "\n",
    "        iv) Percentage >=60%: Grade D\n",
    "\n",
    "        v) Percentage  >=40%: Grade E\n",
    "\n",
    "        vi) Percentage <40% : Grade F\n"
   ]
  },
  {
   "cell_type": "code",
   "execution_count": 21,
   "id": "613fac10",
   "metadata": {},
   "outputs": [
    {
     "name": "stdout",
     "output_type": "stream",
     "text": [
      "Enter  marks occured in Physics out of 100: -9\n",
      "Error: Marks should be positive numbers only and out of 100 only\n"
     ]
    }
   ],
   "source": [
    "def grade(n):\n",
    "\n",
    "    l=['Grade A','Grade B','Grade C','Grade D','Grade E','Grade F']\n",
    "    if n>=90:\n",
    "        return l[0]\n",
    "    elif n>=80:\n",
    "        return l[1]\n",
    "    elif n>=70:\n",
    "        return l[2]\n",
    "    elif n>=60:\n",
    "        return l[3]\n",
    "    elif n>=40:\n",
    "        return l[4]\n",
    "    elif n<40:\n",
    "        return l[5]\n",
    "\n",
    "    \n",
    "def cal():\n",
    "    try:\n",
    "        n=['Physics','Chemistry', 'Biology', 'Mathematics', 'Computer']\n",
    "        for i in range(len(n)):\n",
    "            v=int(input(f\"Enter  marks occured in {n[i]} out of 100: \"))\n",
    "            if v<=0:\n",
    "                raise ValueError(\"Marks should be positive numbers only and out of 100 only\")\n",
    "            elif v>100:\n",
    "                raise ValueError(\"Marks should not be more than 100\")  \n",
    "            else:\n",
    "                print(\"\\n In {} subject percentage is {}% , Grade is : {}\\n\".format(n[i],v,grade(v)))\n",
    "    except Exception as e:\n",
    "        print(\"Error:\",e)\n",
    "\n",
    "cal()"
   ]
  },
  {
   "cell_type": "markdown",
   "id": "e05d2a82",
   "metadata": {},
   "source": [
    "# 2. Write a python program with Exception handling to input electricity unit charges and calculate\n",
    "\n",
    "the total electricity bill according to the given condition:\n",
    "\n",
    "        i)For the first 50 units Rs. 0.50/unit\n",
    "\n",
    "        ii) For the next 100 units Rs. 0.75/unit\n",
    "\n",
    "        iii)For the next 100 units Rs. 1.20/unit\n",
    "\n",
    "        iv) For units above 250 Rs. 1.50/unit\n",
    "\n",
    "        v) An additional surcharge of 20% is added to the bill.\n"
   ]
  },
  {
   "cell_type": "code",
   "execution_count": 44,
   "id": "c87fa716",
   "metadata": {},
   "outputs": [
    {
     "name": "stdout",
     "output_type": "stream",
     "text": [
      "Enter units value: -9\n",
      "Error:  Units value should be positive only.\n"
     ]
    }
   ],
   "source": [
    "def unit(n):\n",
    "    try:\n",
    "        if n>=0:\n",
    "            if n<=50:\n",
    "                n=n*(0.50)\n",
    "            elif n<=150:\n",
    "                n=50*(0.50)+(n-50)*(0.75)\n",
    "            elif n<=250:\n",
    "                n=50*(0.50)+100*(0.75)+(n-150)*(1.20)\n",
    "            else:\n",
    "                n=50*(0.50)+100*(0.75)+100*(1.20)+(n-250)*1.50\n",
    "            s=0.20*n\n",
    "            return (n+s)    \n",
    "        else:\n",
    "            raise ValueError(\"Units value should be positive only.\")\n",
    "    except Exception as e:\n",
    "        print(\"Error: \",e)\n",
    "\n",
    "n=int(input(\"Enter units value: \"))\n",
    "\n",
    "try:\n",
    "    t=unit(n)\n",
    "    if t is not None:\n",
    "        print(f\"Total Electricity bill due is: {t:.2f} \")\n",
    "except Exception as e:\n",
    "    print(\"Error\",e)\n"
   ]
  },
  {
   "cell_type": "markdown",
   "id": "e9f2dc15",
   "metadata": {},
   "source": [
    "# 3. Write a python program with Exception handling to input the week number and print the weekday"
   ]
  },
  {
   "cell_type": "code",
   "execution_count": 70,
   "id": "8e2ff2e0",
   "metadata": {},
   "outputs": [
    {
     "name": "stdout",
     "output_type": "stream",
     "text": [
      "Enter week number : 5\n",
      "5 -> Thursday\n"
     ]
    }
   ],
   "source": [
    "try:\n",
    "    n=int(input(\"Enter week number : \"))\n",
    "    if 1<=n<=7:\n",
    "        l=['sunday','Monday','Tuesday','Wednesday','Thursday','Friday','Saturday']\n",
    "        print(f\"{n} -> {l[n-1]}\")\n",
    "    else:\n",
    "        raise valueError(\"Enter a postive number in between 1 and 7 \")\n",
    "except ValueError as v:\n",
    "    print(\"Value Error : \",v)\n",
    "# except IndexError as i:\n",
    "#     print(\"Index Error : \",i)\n",
    "except Exception as e:\n",
    "    print(\"Error : \",e)"
   ]
  },
  {
   "cell_type": "markdown",
   "id": "2dc6b697",
   "metadata": {},
   "source": [
    "# 4. Write a Python program to implement word count using command line arguments. \n",
    "\n",
    "i) Create a text document \"apple.txt\" whch contains text for wordcount.\n",
    "\n",
    "ii) Create a wordcount program which calls the \"apple.txt\" document by opening the file.\n",
    "\n",
    "iii)If the word is present again in the \"aaple.txt\",the wordcount is incremented by 1 until all the words are counted in the document.\n",
    "\n",
    "iv) Close the file.\n",
    "\n",
    "v) Create a command.py program which imports the wordcount.py program.\n",
    "\n",
    "vi) Count the number of words using command line arguments.\n",
    "\n",
    "vii) Print each word and its count.\n"
   ]
  },
  {
   "cell_type": "code",
   "execution_count": null,
   "id": "a56dd95c",
   "metadata": {},
   "outputs": [],
   "source": [
    "### wordcount.py\n",
    "\n",
    "\n",
    "\n",
    "def count_words(inp):\n",
    "    with open(inp, 'r') as v:\n",
    "        content = v.read()\n",
    "        words = content.split()\n",
    "        w= {}\n",
    "        for word in words:\n",
    "            c = word.strip().lower()\n",
    "            if c in w:\n",
    "                w[c] += 1\n",
    "            else:\n",
    "                w[c] = 1\n",
    "\n",
    "    return w\n"
   ]
  },
  {
   "cell_type": "code",
   "execution_count": null,
   "id": "eedb1c00",
   "metadata": {},
   "outputs": [],
   "source": [
    "## command.py\n",
    "\n",
    "# C:\\Users\\vamsi\\OneDrive\\Desktop\\MPHASIS\\Python\n",
    "\n",
    "\n",
    "import sys\n",
    "from wordcount import count_words \n",
    "\n",
    "if len(sys.argv) != 2:\n",
    "    print(\"Usage: python command.py <input_file>\")\n",
    "    sys.exit(1)\n",
    "\n",
    "input_file = sys.argv[1]\n",
    "w1 = count_words(input_file)\n",
    "\n",
    "for word, count in w1.items():\n",
    "    print(f\"{word}: {count}\")\n"
   ]
  },
  {
   "cell_type": "markdown",
   "id": "d9a6a70b",
   "metadata": {},
   "source": [
    "# 5. Write a Python program for finding the most frequent words in a text read from a file.\n",
    "\n",
    "        i) Initially open the text file in read mode.\n",
    "\n",
    "        ii) Make all the letters in the document into lowercase letters and split the words in each line.\n",
    "\n",
    "        iii) Get the words in an order.\n",
    "\n",
    "        iv) Sort the words for finding the most frequent words in the file. \n",
    "\n",
    "        v)Print the most frequent words in the file.\n"
   ]
  },
  {
   "cell_type": "code",
   "execution_count": 33,
   "id": "76b6da16",
   "metadata": {},
   "outputs": [
    {
     "name": "stdout",
     "output_type": "stream",
     "text": [
      "Most frequent words in the file:\n",
      "hi: 1\n",
      "i'm: 1\n",
      "vamsi.: 1\n",
      "this: 1\n",
      "is: 1\n",
      "a: 1\n",
      "text: 1\n",
      "file: 1\n",
      "123: 1\n",
      "containg: 1\n",
      "no: 1\n",
      "data: 1\n",
      "regarding: 1\n",
      "any: 1\n",
      "employee.: 1\n"
     ]
    }
   ],
   "source": [
    "# mfw.py\n",
    "\n",
    "# C:\\Users\\vamsi\\OneDrive\\Desktop\\MPHASIS\\Python\n",
    "\n",
    "\n",
    "from collections import Counter\n",
    "with open(\"krish.txt\",'r') as v:\n",
    "    content=v.read()\n",
    "    words=content.lower().split()\n",
    "    wc=Counter(words)\n",
    "    frq=wc.most_common()\n",
    "print(\"Most frequent words in the file:\")\n",
    "for w,f in frq:\n",
    "    print(f\"{w}: {f}\")\n",
    "\n"
   ]
  },
  {
   "cell_type": "markdown",
   "id": "71754973",
   "metadata": {},
   "source": [
    "# 6. File Processing with Command-Line Arguments- Scenario: You are developing a command-line utility that processes text files. Users can specify input and output file paths as command-line arguments. Your program should handle exceptions gracefully.\n",
    "\n",
    "i. Design a Python program that takes two command-line arguments: the input file path and the output file path. Ensure that the program checks if both arguments are provided and that the input file exists.\n",
    "\n",
    "ii. Implement error handling to deal with scenarios such as missing input files. invalid file paths, or permission issues when writing to the output file.\n",
    "\n",
    "iii. If an error occurs during file processing, display a user-friendly error message. and exit the program with a non-zero exit code.\n",
    "\n",
    "iv. Write test cases that cover various scenarios, including providing valid and invalid file paths as command-line arguments."
   ]
  },
  {
   "cell_type": "code",
   "execution_count": null,
   "id": "b5eea051",
   "metadata": {},
   "outputs": [],
   "source": [
    "# fp.py\n",
    "# python fp.py \"input file\" \"output file\"\n",
    "\n",
    "\n",
    "import sys\n",
    "import subprocess\n",
    "import pathlib\n",
    "\n",
    "def p(inp,out):\n",
    "        try:\n",
    "            if not pathlib.Path(inp).is_file():\n",
    "                raise FileNotFoundError(f\"Input file {inp} not found.\")\n",
    "            with open(inp,'r') as v:\n",
    "                content=v.read()\n",
    "            print(\"Content from input file : \\n\",content)\n",
    "            with open(out,'w') as v1:\n",
    "                v1.write(content)\n",
    "            print(f\"\\nData written in {out} .\")\n",
    "        except FileNotFoundError as c:\n",
    "            sys.exit(f\"Error : {c}\")\n",
    "        except IoError as i:\n",
    "            sys.exit(f\"Error : {i}\")\n",
    "        except Exception as e:\n",
    "                     sys.exit(f\"Error : {e}\")\n",
    "                     \n",
    "\n",
    "if len(sys.argv) < 3:\n",
    "    sys.exit('Error, Please provide at two one filename as an argument')\n",
    "\n",
    "inp= sys.argv[1]\n",
    "out = sys.argv[2]\n",
    "p(inp,out)\n"
   ]
  }
 ],
 "metadata": {
  "kernelspec": {
   "display_name": "Python 3 (ipykernel)",
   "language": "python",
   "name": "python3"
  },
  "language_info": {
   "codemirror_mode": {
    "name": "ipython",
    "version": 3
   },
   "file_extension": ".py",
   "mimetype": "text/x-python",
   "name": "python",
   "nbconvert_exporter": "python",
   "pygments_lexer": "ipython3",
   "version": "3.11.4"
  }
 },
 "nbformat": 4,
 "nbformat_minor": 5
}
