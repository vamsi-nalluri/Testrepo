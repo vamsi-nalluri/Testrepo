{
 "cells": [
  {
   "cell_type": "markdown",
   "id": "d3254df1",
   "metadata": {},
   "source": [
    "# 1. Module Import and Management\n",
    "\n",
    "Scenario: You are developing a complex Python project with multiple modules. To manage the project effectively, you need to import and use various modules. Additionally, you want to organize your code using namespaces and avoid naming conflicts.\n",
    "\n",
    "Design a Python program that demonstrates the following:\n",
    "\n",
    "        1. Import multiple modules within your project.\n",
    "\n",
    "        2. Use the import statement to access functions, classes, and variables from imported modules.\n",
    "\n",
    "        3. Create your custom module and use it in your main program.\n",
    "\n",
    "        4. Handle naming conflicts and ensure proper namespacing.\n",
    "        \n",
    "        5. Implement error handling for missing modules or incorrect module usage.\n"
   ]
  },
  {
   "cell_type": "code",
   "execution_count": 82,
   "id": "c7d97180",
   "metadata": {},
   "outputs": [],
   "source": [
    "### THis is my module\"vamsmodule.py\"\n",
    "\n",
    "import math as m   # Handle naming conflicts and ensure proper namespacing.\n",
    "import numpy as n    #Import multiple modules within your project.\n",
    "import datetime as d\n",
    "\n",
    "def l():\n",
    "    l=\"1,2,3,4,5,6,9,7\"\n",
    "    v1=l.split(\",\")\n",
    "    v=[float(x) for x in v1]\n",
    "    print(f\"[{l}] mean {n.mean(v)}\")\n",
    "    return \n",
    "def t():\n",
    "    print(' ')\n",
    "    return d.datetime.now()\n",
    "def add(a,b):\n",
    "    return a+b\n",
    "def sub(a,b):\n",
    "    return a-b\n",
    "def swap(a,b):\n",
    "    a,b=b,a\n",
    "    return a,b\n",
    "def power(a,b):\n",
    "    return int(m.pow(a,b))\n",
    "\n",
    "\n",
    "# l()\n",
    "# print(t())  \n",
    "# print(swap(5,6))\n",
    "# print(sub(10,5))\n",
    "# print(add(2,7))\n",
    "# print(power(2,3))"
   ]
  },
  {
   "cell_type": "code",
   "execution_count": 92,
   "id": "31f361f3",
   "metadata": {},
   "outputs": [
    {
     "name": "stdout",
     "output_type": "stream",
     "text": [
      "11\n",
      "5\n",
      " \n",
      "2023-09-15 17:50:07.683892\n",
      "[1,2,3,4,5,6,9,7] mean 4.625\n",
      "None\n"
     ]
    }
   ],
   "source": [
    "def example():\n",
    "    try:  #5. Implement error handling for missing modules or incorrect module usage.\n",
    "\n",
    "        import vamsmodule as v #Create your custom module and use it in your main program.\n",
    "\n",
    "        print(v.add(5,6))     #Use the import statement to access functions, classes, and variables from imported modules.\n",
    "        print(v.sub(10,5))\n",
    "        print(v.t())\n",
    "        print(v.l())\n",
    "    except Exception as e:\n",
    "        print(\"Error : \",e)\n",
    "if __name__==\"__main__\":\n",
    "    example()"
   ]
  },
  {
   "cell_type": "markdown",
   "id": "b2f57c07",
   "metadata": {},
   "source": [
    "# 2. Virtual Environment Management\n",
    "\n",
    "Scenario: You are working on multiple Python projects with different dependencies and versions. To avoid conflicts and ensure project isolation, you decide to use virtual environments.\n",
    "\n",
    "Create a Python program that demonstrates the following:\n",
    "\n",
    "        1. Create a virtual environment for a specific project.\n",
    "\n",
    "        2. Activate and deactivate virtual environments.\n",
    "\n",
    "        3. Install, upgrade, and uninstall packages within a virtual environment.\n",
    "\n",
    "        4. List the installed packages in a virtual environment.\n",
    "\n",
    "        5. Implement error handling for virtual environment operations.\n"
   ]
  },
  {
   "cell_type": "code",
   "execution_count": 98,
   "id": "ebd739ab",
   "metadata": {},
   "outputs": [
    {
     "name": "stdout",
     "output_type": "stream",
     "text": [
      "\n",
      "Options:\n",
      "1. Create a virtual environment\n",
      "2. Activate a virtual environment\n",
      "3. Deactivate the current virtual environment\n",
      "4. Install a package\n",
      "5. Upgrade a package\n",
      "6. Uninstall a package\n",
      "7. List installed packages\n",
      "8. Exit\n",
      "Select an option: 8\n",
      "Exit successful\n"
     ]
    }
   ],
   "source": [
    "import subprocess\n",
    "import sys\n",
    "\n",
    "def create_virtual_environment(env_name):\n",
    "    try:\n",
    "        subprocess.run([\"conda\", \"create\", \"--name\", env_name, \"python=3.8\", \"-y\"], check=True)\n",
    "        print(f\"Created virtual environment '{env_name}' successfully.\")\n",
    "    except subprocess.CalledProcessError:\n",
    "        print(f\"Error creating virtual environment '{env_name}'.\")\n",
    "\n",
    "def activate_virtual_environment(env_name):\n",
    "    try:\n",
    "        subprocess.run([\"conda\", \"activate\", env_name], shell=True, check=True)\n",
    "        print(f\"Activated virtual environment '{env_name}'.\")\n",
    "    except subprocess.CalledProcessError:\n",
    "        print(f\"Error activating virtual environment '{env_name}'.\")\n",
    "\n",
    "def deactivate_virtual_environment():\n",
    "    try:\n",
    "        subprocess.run([\"conda\", \"deactivate\"], shell=True, check=True)\n",
    "        print(\"Deactivated virtual environment.\")\n",
    "    except subprocess.CalledProcessError:\n",
    "        print(\"Error deactivating virtual environment.\")\n",
    "\n",
    "def install_package(env_name, package):\n",
    "    try:\n",
    "        subprocess.run([\"conda\", \"install\", \"-n\", env_name, package, \"-y\"], check=True)\n",
    "        print(f\"Installed '{package}' in '{env_name}' environment.\")\n",
    "    except subprocess.CalledProcessError:\n",
    "        print(f\"Error installing '{package}' in '{env_name}' environment.\")\n",
    "\n",
    "def upgrade_package(env_name, package):\n",
    "    try:\n",
    "        subprocess.run([\"conda\", \"install\", \"-n\", env_name, \"--update-deps\", package, \"-y\"], check=True)\n",
    "        print(f\"Upgraded '{package}' in '{env_name}' environment.\")\n",
    "    except subprocess.CalledProcessError:\n",
    "        print(f\"Error upgrading '{package}' in '{env_name}' environment.\")\n",
    "\n",
    "def uninstall_package(env_name, package):\n",
    "    try:\n",
    "        subprocess.run([\"conda\", \"uninstall\", \"-n\", env_name, package, \"--yes\"], check=True)\n",
    "        print(f\"Uninstalled '{package}' from '{env_name}' environment.\")\n",
    "    except subprocess.CalledProcessError:\n",
    "        print(f\"Error uninstalling '{package}' from '{env_name}' environment.\")\n",
    "\n",
    "def list_installed_packages(env_name):\n",
    "    try:\n",
    "        result = subprocess.run([\"conda\", \"list\", \"-n\", env_name], stdout=subprocess.PIPE, text=True, check=True)\n",
    "        print(f\"Installed packages in '{env_name}':\\n{result.stdout}\")\n",
    "    except subprocess.CalledProcessError:\n",
    "        print(f\"Error listing packages in '{env_name}' environment.\")\n",
    "\n",
    "if __name__ == \"__main__\":\n",
    "    while True:\n",
    "        print(\"\\nOptions:\")\n",
    "        print(\"1. Create a virtual environment\")\n",
    "        print(\"2. Activate a virtual environment\")\n",
    "        print(\"3. Deactivate the current virtual environment\")\n",
    "        print(\"4. Install a package\")\n",
    "        print(\"5. Upgrade a package\")\n",
    "        print(\"6. Uninstall a package\")\n",
    "        print(\"7. List installed packages\")\n",
    "        print(\"8. Exit\")\n",
    "\n",
    "        choice = input(\"Select an option: \")\n",
    "\n",
    "        if choice == \"1\":\n",
    "            env_name = input(\"Enter the name of the virtual environment: \")\n",
    "            create_virtual_environment(env_name)\n",
    "        elif choice == \"2\":\n",
    "            env_name = input(\"Enter the name of the virtual environment: \")\n",
    "            activate_virtual_environment(env_name)\n",
    "        elif choice == \"3\":\n",
    "            deactivate_virtual_environment()\n",
    "        elif choice == \"4\":\n",
    "            env_name = input(\"Enter the name of the virtual environment: \")\n",
    "            package = input(\"Enter the name of the package to install: \")\n",
    "            install_package(env_name, package)\n",
    "        elif choice == \"5\":\n",
    "            env_name = input(\"Enter the name of the virtual environment: \")\n",
    "            package = input(\"Enter the name of the package to upgrade: \")\n",
    "            upgrade_package(env_name, package)\n",
    "        elif choice == \"6\":\n",
    "            env_name = input(\"Enter the name of the virtual environment: \")\n",
    "            package = input(\"Enter the name of the package to uninstall: \")\n",
    "            uninstall_package(env_name, package)\n",
    "        elif choice == \"7\":\n",
    "            env_name = input(\"Enter the name of the virtual environment: \")\n",
    "            list_installed_packages(env_name)\n",
    "        elif choice == \"8\":\n",
    "            print(\"Exit successful\")\n",
    "            break\n",
    "        else:\n",
    "            print(\"Invalid choice. Please select a valid option.\")\n"
   ]
  },
  {
   "cell_type": "markdown",
   "id": "ef0b7f7d",
   "metadata": {},
   "source": [
    "# 3. Module Dependency Resolution\n",
    "\n",
    "Scenario: You are developing a Python application that relies on third-party packages. Managing dependencies and ensuring compatibility is crucial for your project's success.\n",
    "\n",
    "Design a Python program that demonstrates the following:\n",
    "\n",
    "        1. Use a requirements.txt file to specify project dependencies.\n",
    "\n",
    "        2. Automatically install all project dependencies from the requirements.txt file.\n",
    "        \n",
    "        3. Ensure that the versions of installed packages are compatible.\n"
   ]
  },
  {
   "cell_type": "code",
   "execution_count": 4,
   "id": "a43bac01",
   "metadata": {},
   "outputs": [
    {
     "name": "stdout",
     "output_type": "stream",
     "text": [
      "Dependencies installed successfully.\n",
      "requests 2.31.0 is compatible.\n",
      "numpy 1.25.2 is compatible.\n",
      "pandas 2.1.0 is compatible.\n"
     ]
    }
   ],
   "source": [
    "import subprocess\n",
    "import pkg_resources\n",
    "\n",
    "def install_dependencies():\n",
    "    try:\n",
    "        # Read the dependencies from requirements.txt\n",
    "        with open('requirements.txt', 'r') as requirements_file:\n",
    "            dependencies = [line.strip() for line in requirements_file]\n",
    "\n",
    "        # Install dependencies using pip\n",
    "        for dependency in dependencies:\n",
    "            subprocess.run(['pip', 'install', dependency])\n",
    "\n",
    "        print(\"Dependencies installed successfully.\")\n",
    "    except Exception as e:\n",
    "        print(f\"Error installing dependencies: {str(e)}\")\n",
    "\n",
    "def check_compatibility():\n",
    "    try:\n",
    "        # Check compatibility of installed packages\n",
    "        for requirement in pkg_resources.parse_requirements(open('requirements.txt')):\n",
    "            installed_version = pkg_resources.get_distribution(requirement.name).version\n",
    "            if requirement.specifier.contains(installed_version):\n",
    "                print(f\"{requirement.name} {installed_version} is compatible.\")\n",
    "            else:\n",
    "                print(f\"WARNING: {requirement.name} {installed_version} is not compatible with the specified constraints.\")\n",
    "\n",
    "    except Exception as e:\n",
    "        print(f\"Error checking compatibility: {str(e)}\")\n",
    "\n",
    "if __name__ == \"__main__\":\n",
    "    install_dependencies()\n",
    "    check_compatibility()\n"
   ]
  },
  {
   "cell_type": "markdown",
   "id": "e5649005",
   "metadata": {},
   "source": [
    "# Database programming with MySQL:\n",
    "\n",
    "1. Implement Inventory Management in Python with MySQL\n",
    "\n",
    "        a) Inventory management, a critical element of the supply chain, is the tracking of inventory from manufacturers\n",
    "           to warehouses and from these facilities to a point of sale. The goal of inventory management is to have the \n",
    "           right products in the right place at the right time.\n",
    "\n",
    "        b) The required Database is Inventory, and the required Tables are Purchases, Sales and Inventory\n",
    "\n",
    "        c) Note: Apply your thoughts to demonstrate the DB Operation in Python."
   ]
  },
  {
   "cell_type": "code",
   "execution_count": 40,
   "id": "b1304aa4",
   "metadata": {},
   "outputs": [
    {
     "name": "stdout",
     "output_type": "stream",
     "text": [
      "<mysql.connector.connection.MySQLConnection object at 0x0000011725EA7890>\n"
     ]
    }
   ],
   "source": [
    "import mysql.connector\n",
    "\n",
    "con=mysql.connector.connect(user = 'root',\n",
    "                            password='Nalluri@19',\n",
    "                            host ='127.0.0.1',\n",
    "                            database ='Inventory'\n",
    "                           )\n",
    "print(con)\n",
    "curs=con.cursor()"
   ]
  },
  {
   "cell_type": "code",
   "execution_count": 17,
   "id": "bb6d702f",
   "metadata": {},
   "outputs": [],
   "source": [
    "pur=(\"create table purchases (pro_id int primary key,pro_desc varchar(200),pro_quantity int)\")\n",
    "sale=(\"create table sales (sales_id int primary key,pro_id int,cust_id int ,sale_qunatity int, foreign key (pro_id) references purchases(pro_id))\")\n",
    "inv=(\"create table inventory (pro_id int primary key,pro_name varchar(50),quantity int,category varchar(50), foreign key (pro_id) references purchases(pro_id))\")\n",
    "curs.execute(pur)\n",
    "curs.execute(sale)\n",
    "curs.execute(inv)"
   ]
  },
  {
   "cell_type": "code",
   "execution_count": 41,
   "id": "0a23d984",
   "metadata": {},
   "outputs": [
    {
     "name": "stdout",
     "output_type": "stream",
     "text": [
      "('cus_ord_dtls',)\n",
      "('customers',)\n",
      "('inventory',)\n",
      "('orders',)\n",
      "('products',)\n",
      "('purchases',)\n",
      "('sales',)\n",
      "('tab',)\n"
     ]
    }
   ],
   "source": [
    "curs.execute(\"show tables\")\n",
    "for i in curs:\n",
    "    print(i)"
   ]
  },
  {
   "cell_type": "code",
   "execution_count": 19,
   "id": "0b6120ee",
   "metadata": {},
   "outputs": [
    {
     "name": "stdout",
     "output_type": "stream",
     "text": [
      "1 row(S) inserted\n"
     ]
    }
   ],
   "source": [
    "v=(\"insert into purchases values(1,'Its about electronics related',5)\")\n",
    "curs.execute(v)\n",
    "con.commit()\n",
    "print(curs.rowcount,\"row(S) inserted\")"
   ]
  },
  {
   "cell_type": "code",
   "execution_count": 23,
   "id": "fef485a7",
   "metadata": {},
   "outputs": [
    {
     "name": "stdout",
     "output_type": "stream",
     "text": [
      "3 row(S) inserted\n"
     ]
    }
   ],
   "source": [
    "mul=(\"insert into sales (pro_id,pro_desc,pro_quantity) values (%s,%s,%s)\")\n",
    "d=[(2,'Its about clothes',15),\n",
    "   (3,'its about steel',55),\n",
    "   (15,'Its about iron',66), \n",
    "]\n",
    "curs.executemany(mul,d)\n",
    "\n",
    "con.commit()\n",
    "print(curs.rowcount,\"row(S) inserted\")"
   ]
  },
  {
   "cell_type": "code",
   "execution_count": 25,
   "id": "77bd3602",
   "metadata": {},
   "outputs": [
    {
     "name": "stdout",
     "output_type": "stream",
     "text": [
      "1 row(S) inserted via single insertion\n",
      "3 row(S) inserted via multiple insertion\n"
     ]
    }
   ],
   "source": [
    "v=(\"insert into sales values(7,1,201,5)\")\n",
    "curs.execute(v)\n",
    "con.commit()\n",
    "print(curs.rowcount,\"row(S) inserted via single insertion\")\n",
    "\n",
    "\n",
    "mul=(\"insert into sales (sales_id,pro_id,cust_id,sale_qunatity) values (%s,%s,%s,%s)\")\n",
    "d=[(1,2,202,15),\n",
    "   (3,3,205,55),\n",
    "   (5,15,204,66), \n",
    "]\n",
    "curs.executemany(mul,d)\n",
    "\n",
    "con.commit()\n",
    "print(curs.rowcount,\"row(S) inserted via multiple insertion\")"
   ]
  },
  {
   "cell_type": "code",
   "execution_count": 18,
   "id": "6cb5e77b",
   "metadata": {},
   "outputs": [
    {
     "name": "stdout",
     "output_type": "stream",
     "text": [
      "1 row(S) inserted via single insertion\n",
      "3 row(S) inserted via multiple insertion\n"
     ]
    }
   ],
   "source": [
    "v=(\"insert into inventory values(1,'watch',10,'electorinics')\")\n",
    "curs.execute(v)\n",
    "con.commit()\n",
    "print(curs.rowcount,\"row(S) inserted via single insertion\")\n",
    "\n",
    "\n",
    "mul=(\"insert into inventory (pro_id,pro_name,quantity,category) values (%s,%s,%s,%s)\")\n",
    "d=[(2,'Dress',10,'clothe'),\n",
    "   (3,'glass',25,'material'),\n",
    "   (15,'Bolt',18,'material'), \n",
    "]\n",
    "curs.executemany(mul,d)\n",
    "\n",
    "con.commit()\n",
    "print(curs.rowcount,\"row(S) inserted via multiple insertion\")"
   ]
  },
  {
   "cell_type": "code",
   "execution_count": 30,
   "id": "8bf7dde9",
   "metadata": {},
   "outputs": [
    {
     "name": "stdout",
     "output_type": "stream",
     "text": [
      "(1, 'watch', 10, 'electorinics')\n",
      "(2, 'Dress', 10, 'clothe')\n",
      "(3, 'glass', 25, 'material')\n",
      "(15, 'Bolt', 18, 'material')\n"
     ]
    }
   ],
   "source": [
    "curs.execute(\"select * from inventory\")\n",
    "c=curs.fetchall()\n",
    "for i in c:\n",
    "    print(i)"
   ]
  },
  {
   "cell_type": "code",
   "execution_count": 32,
   "id": "79f0f995",
   "metadata": {},
   "outputs": [
    {
     "name": "stdout",
     "output_type": "stream",
     "text": [
      "(1, 'Its about electronics related', 5)\n",
      "(2, 'Its about clothes', 15)\n",
      "(3, 'its about steel', 55)\n",
      "(15, 'Its about iron', 66)\n"
     ]
    }
   ],
   "source": [
    "curs.execute(\"select * from purchases\")\n",
    "c=curs.fetchall()\n",
    "for i in c:\n",
    "    print(i)"
   ]
  },
  {
   "cell_type": "code",
   "execution_count": 33,
   "id": "c64a88f0",
   "metadata": {},
   "outputs": [
    {
     "name": "stdout",
     "output_type": "stream",
     "text": [
      "(1, 2, 202, 15)\n",
      "(3, 3, 205, 55)\n",
      "(5, 15, 204, 66)\n",
      "(7, 1, 201, 5)\n"
     ]
    }
   ],
   "source": [
    "curs.execute(\"select * from sales\")\n",
    "c=curs.fetchall()\n",
    "for i in c:\n",
    "    print(i)"
   ]
  },
  {
   "cell_type": "code",
   "execution_count": 12,
   "id": "b4a83b9b",
   "metadata": {},
   "outputs": [
    {
     "name": "stdout",
     "output_type": "stream",
     "text": [
      "(15, 'Bolt', 18, 'material')\n",
      "(3, 'glass', 25, 'material')\n",
      "(2, 'Dress', 10, 'clothe')\n",
      "(1, 'watch', 10, 'electorinics')\n"
     ]
    }
   ],
   "source": [
    "curs.execute(\"select * from inventory order by pro_id desc\")\n",
    "c=curs.fetchall()\n",
    "for i in c:\n",
    "    print(i)"
   ]
  },
  {
   "cell_type": "code",
   "execution_count": 19,
   "id": "ccb67a94",
   "metadata": {},
   "outputs": [
    {
     "name": "stdout",
     "output_type": "stream",
     "text": [
      "1 row(S) deleted.\n"
     ]
    }
   ],
   "source": [
    "curs.execute(\"delete from inventory where pro_id=1\")\n",
    "con.commit()\n",
    "print(curs.rowcount,\"row(S) deleted.\")"
   ]
  },
  {
   "cell_type": "markdown",
   "id": "f39493b8",
   "metadata": {},
   "source": [
    "# 2. Customer Order Processing\n",
    "\n",
    "Scenario: You are building a customer order processing system for an e-commerce company. The system needs to Interact with a MySQL database to store customer orders, products, and order details.\n",
    "\n",
    "        1. Design a MySQL database schema for the order processing system, including tables for customers, products,\n",
    "           and orders.\n",
    "\n",
    "        2. Write a Python program that connects to the database and allows customers to place new orders.\n",
    "\n",
    "        3. Implement a feature that calculates the total cost of an order and updates product quantities in the database.\n",
    "\n",
    "        4. How would you handle cases where a product is no longer available when a customer places an order?\n",
    "\n",
    "        5. Develop a function to generate order reports for the company's finance department."
   ]
  },
  {
   "cell_type": "code",
   "execution_count": 46,
   "id": "69270010",
   "metadata": {},
   "outputs": [],
   "source": [
    "cus=(\"create table customers (Customer_Id int primary key,Name varchar(50),Email varchar(50),Phone_No int,Address varchar(300))\")\n",
    "pro=(\"create table products (product_id int primary key,Customer_Id int,product_name varchar(50),product_details varchar(100),Price int,Stock int,foreign key(Customer_Id) references customers(Customer_Id))\")\n",
    "ord=(\"create table orders (order_Id int primary key,Customer_Id int,Status varchar(50),Total_amount int,foreign key(Customer_Id) references customers(Customer_Id))\")\n",
    "cod=(\"create table cus_ord_dtls (Details_ID int,product_id int,order_Id int,Req_Qnty int,Sub_Total_amount int,foreign key(order_Id) references orders(order_Id),foreign key(product_id) references products(product_id))\")\n",
    "curs.execute(cus)\n",
    "curs.execute(pro)\n",
    "curs.execute(ord)\n",
    "curs.execute(cod)"
   ]
  },
  {
   "cell_type": "code",
   "execution_count": 44,
   "id": "af46db34",
   "metadata": {},
   "outputs": [
    {
     "name": "stdout",
     "output_type": "stream",
     "text": [
      "('cus_ord_dtls',)\n",
      "('customers',)\n",
      "('inventory',)\n",
      "('orders',)\n",
      "('products',)\n",
      "('purchases',)\n",
      "('sales',)\n",
      "('tab',)\n"
     ]
    }
   ],
   "source": [
    "curs.execute(\"show tables\")\n",
    "for i in curs:\n",
    "    print(i)"
   ]
  },
  {
   "cell_type": "code",
   "execution_count": null,
   "id": "6ca1436e",
   "metadata": {},
   "outputs": [],
   "source": [
    "insert_customer = \"INSERT INTO customers (Customer_Id, Name, Email, Phone_No, Address) VALUES (%s, %s, %s, %s, %s)\"\n",
    "customer_data = (1, 'John Doe', 'john@example.com', 1234567890, '123 Main St, City')\n",
    "curs.execute(insert_customer, customer_data)\n",
    "insert_product = \"INSERT INTO products (product_id, Customer_Id, product_name, product_details, Price, Stock) VALUES (%s, %s, %s, %s, %s, %s)\"\n",
    "product_data = (101, 1, 'Product 1', 'Product 1 details', 50, 100)\n",
    "curs.execute(insert_product, product_data)\n",
    "insert_order = \"INSERT INTO orders (order_Id, Customer_Id, Status, Total_amount) VALUES (%s, %s, %s, %s)\"\n",
    "order_data = (1, 1, 'Pending', 100)\n",
    "curs.execute(insert_order, order_data)\n",
    "insert_order_details = \"INSERT INTO cus_ord_dtls (Details_ID, product_id, order_Id, Req_Qnty, Sub_Total_amount) VALUES (%s, %s, %s, %s, %s)\"\n",
    "order_details_data = (1, 101, 1, 2, 100)\n",
    "curs.execute(insert_order_details, order_details_data)\n",
    "con.commit()"
   ]
  },
  {
   "cell_type": "code",
   "execution_count": 32,
   "id": "f1539a5a",
   "metadata": {},
   "outputs": [
    {
     "name": "stdout",
     "output_type": "stream",
     "text": [
      "Product not found.\n",
      "Order Report:\n",
      "Order_ID | Customer Name | Status   | Total Amount\n",
      "1         | John Doe      | Pending  | $100.00\n"
     ]
    }
   ],
   "source": [
    "import mysql.connector\n",
    "def place(customer_id, product_id, quantity, con, curs):\n",
    "    try:\n",
    "        curs.execute(\"SELECT Stock, Price FROM products WHERE product_id = %s\", (product_id,))\n",
    "        result = curs.fetchone()\n",
    "        if result:\n",
    "            stock, price = result\n",
    "            if stock >= quantity:\n",
    "                total_amount = price * quantity\n",
    "                \n",
    "                curs.execute(\"INSERT INTO orders (Customer_Id, Status, Total_amount) VALUES (%s, %s, %s)\",\n",
    "                               (customer_id, 'Pending', total_amount))\n",
    "                order_id = curs.lastrowid\n",
    "                \n",
    "                curs.execute(\"UPDATE products SET Stock = Stock - %s WHERE product_id = %s\", (quantity, product_id))\n",
    "                \n",
    "                curs.execute(\"INSERT INTO cus_ord_dtls (Details_ID, product_id, order_Id, Req_Qnty, Sub_Total_amount) VALUES (%s, %s, %s, %s, %s)\",\n",
    "                               (None, product_id, order_id, quantity, total_amount))\n",
    "                \n",
    "                con.commit()\n",
    "                print(\"Order placed successfully!\")\n",
    "            else:\n",
    "                print(\"Insufficient stock for this product.\")\n",
    "        else:\n",
    "            print(\"Product not found.\")\n",
    "        \n",
    "    except mysql.connector.Error as err:\n",
    "        print(f\"Error: {err}\")\n",
    "\n",
    "def gen(con, curs):\n",
    "    try:\n",
    "        curs.execute(\"SELECT o.order_Id, c.Name, o.Status, o.Total_amount FROM orders o JOIN customers c ON o.Customer_Id = c.Customer_Id\")\n",
    "        orders = curs.fetchall()\n",
    "        print(\"Order Report:\")\n",
    "        print(\"Order_ID | Customer Name | Status   | Total Amount\")\n",
    "        for order in orders:\n",
    "            print(f\"{order[0]:<9} | {order[1]:<13} | {order[2]:<8} | ${order[3]:.2f}\")\n",
    "\n",
    "    except mysql.connector.Error as err:\n",
    "        print(f\"Error: {err}\")\n",
    "\n",
    "        \n",
    "place(3, 204, 2, con, curs)  \n",
    "gen(con, curs)   \n",
    "\n",
    "\n"
   ]
  },
  {
   "cell_type": "code",
   "execution_count": 33,
   "id": "8a528628",
   "metadata": {},
   "outputs": [
    {
     "name": "stdout",
     "output_type": "stream",
     "text": [
      "(101, 1, 'Product 1', 'Product 1 details', 50, 100)\n"
     ]
    }
   ],
   "source": [
    "curs.execute(\"select * from products\")\n",
    "c=curs.fetchall()\n",
    "for i in c:\n",
    "    print(i)"
   ]
  },
  {
   "cell_type": "markdown",
   "id": "4a75fe15",
   "metadata": {},
   "source": [
    "# 3.You are tasked with developing a Python program that connects to a MySQL database, retrieves data from a table, performs some operations on the data, and updates the database with the modified data. Please write Python code to accomplish this task.\n",
    "\n",
    "Instructions:\n",
    "\n",
    "    1. Assume that you have a MySQL database server running with the following details:\n",
    "\n",
    "            1. Host: localhost\n",
    "\n",
    "            ii. Port: 3306\n",
    "\n",
    "            iii. Username: your username\n",
    "\n",
    "            iv. Password: your password\n",
    "\n",
    "            v. Database Name: your database\n",
    "\n",
    "            vi. Table Name: your_table\n",
    "\n",
    "            vii. The table has the following columns: id (int), name (varchar),quantity (int).\n",
    "\n",
    "    2. Your Python program should:\n",
    "\n",
    "        i. Connect to the MySQL database.\n",
    "\n",
    "        ii. Retrieve all records from the your table table. \n",
    "        \n",
    "        iii. Calculate the total quantity of all records retrieved.\n",
    "\n",
    "        iv. Update the quantity column of each record by doubling its value.\n",
    "\n",
    "        v. Commit the changes to the database.\n",
    "\n",
    "        vi. Close the database connection.\n",
    "\n",
    "    3. Handle any potential errors that may occur during the database connection and data manipulation, such as connection failures or SQL errors.\n",
    "    \n",
    "    4. Provide comments in your code to explain each step."
   ]
  },
  {
   "cell_type": "code",
   "execution_count": 87,
   "id": "f90a021f",
   "metadata": {},
   "outputs": [
    {
     "name": "stdout",
     "output_type": "stream",
     "text": [
      "<mysql.connector.connection.MySQLConnection object at 0x00000117261135D0>\n"
     ]
    }
   ],
   "source": [
    "import mysql.connector\n",
    "\n",
    "con=mysql.connector.connect(user = 'root',\n",
    "                            password='Nalluri@19',\n",
    "                            host ='127.0.0.1',\n",
    "                            database ='Inventory'\n",
    "                           )\n",
    "print(con)\n",
    "curs=con.cursor()"
   ]
  },
  {
   "cell_type": "code",
   "execution_count": 48,
   "id": "19db5763",
   "metadata": {},
   "outputs": [],
   "source": [
    "s=(\"create table Tab (id int,name varchar(50),quantity int)\")\n",
    "curs.execute(s)\n"
   ]
  },
  {
   "cell_type": "code",
   "execution_count": 42,
   "id": "addd2041",
   "metadata": {},
   "outputs": [
    {
     "name": "stdout",
     "output_type": "stream",
     "text": [
      "('cus_ord_dtls',)\n",
      "('customers',)\n",
      "('inventory',)\n",
      "('orders',)\n",
      "('products',)\n",
      "('purchases',)\n",
      "('sales',)\n",
      "('tab',)\n"
     ]
    }
   ],
   "source": [
    "curs.execute(\"show tables\")\n",
    "for i in curs:\n",
    "    print(i)"
   ]
  },
  {
   "cell_type": "code",
   "execution_count": 83,
   "id": "989e809a",
   "metadata": {},
   "outputs": [
    {
     "name": "stdout",
     "output_type": "stream",
     "text": [
      "3 row(S) inserted via multiple insertion\n"
     ]
    }
   ],
   "source": [
    "s=(\"insert into Tab (id,name,quantity) values (%s,%s,%s) \")\n",
    "v=[(1,'vamsi',10),\n",
    "   (2,'krish',12),\n",
    "   (3,'nalluri',5)\n",
    "  ]\n",
    "curs.executemany(s,v)\n",
    "con.commit()\n",
    "print(curs.rowcount,\"row(S) inserted via multiple insertion\")"
   ]
  },
  {
   "cell_type": "code",
   "execution_count": 84,
   "id": "08e59c57",
   "metadata": {},
   "outputs": [
    {
     "name": "stdout",
     "output_type": "stream",
     "text": [
      "(1, 'vamsi', 10)\n",
      "(2, 'krish', 12)\n",
      "(3, 'nalluri', 5)\n"
     ]
    }
   ],
   "source": [
    "curs.execute(\"select * from tab \")\n",
    "r=curs.fetchall()\n",
    "for i in r:\n",
    "    print(i)"
   ]
  },
  {
   "cell_type": "markdown",
   "id": "d7581752",
   "metadata": {},
   "source": [
    "# In the below program i used quetion number as comments"
   ]
  },
  {
   "cell_type": "code",
   "execution_count": 86,
   "id": "1a7f4ed7",
   "metadata": {},
   "outputs": [
    {
     "name": "stdout",
     "output_type": "stream",
     "text": [
      "Connected to MySQL database\n",
      "Total quantity before doubling: 27\n",
      "Quantity of all records doubled and updated in the database\n",
      "Database connection closed\n"
     ]
    }
   ],
   "source": [
    "\n",
    "\n",
    "\n",
    "import mysql.connector\n",
    "from mysql.connector import Error\n",
    "\n",
    "try:# the below line shows 3.1. i) to vii)\n",
    "    con = mysql.connector.connect(user = 'root',\n",
    "                                         password='Nalluri@19',\n",
    "                                         host ='127.0.0.1',\n",
    "                                         database ='Inventory')\n",
    "\n",
    "    if con.is_connected():\n",
    "        print(\"Connected to MySQL database\")\n",
    "        curs = con.cursor()   #3.2. i)\n",
    "\n",
    "        try:\n",
    "            curs.execute(\"SELECT * FROM tab\")    #3.2. ii)\n",
    "            r = curs.fetchall()\n",
    "            tq = sum(i[2] for i in r)   #3.2. iii)\n",
    "            for j in r:\n",
    "                newq = j[2] * 2   #3.2. iv)\n",
    "                curs.execute(\"UPDATE tab SET quantity = %s WHERE id = %s\", (newq, j[0]))\n",
    "            con.commit()   #3.2. v)\n",
    "            print(f\"Total quantity before doubling: {tq}\")\n",
    "            print(\"Quantity of all records doubled and updated in the database\")\n",
    "        except Error as e:\n",
    "            print(f\"Error during data manipulation: {e}\")\n",
    "        finally:\n",
    "            curs.close()\n",
    "            con.close()   #3.2. vi)\n",
    "            print(\"Database connection closed\")\n",
    "except Error as e:    #3.3\n",
    "    print(f\"Error connecting to MySQL database: {e}\")\n"
   ]
  },
  {
   "cell_type": "code",
   "execution_count": 88,
   "id": "e97affb7",
   "metadata": {},
   "outputs": [
    {
     "name": "stdout",
     "output_type": "stream",
     "text": [
      "(1, 'vamsi', 20)\n",
      "(2, 'krish', 24)\n",
      "(3, 'nalluri', 10)\n"
     ]
    }
   ],
   "source": [
    "curs = con.cursor()\n",
    "curs.execute(\"select * from tab \")\n",
    "r=curs.fetchall()\n",
    "for i in r:\n",
    "    print(i)"
   ]
  },
  {
   "cell_type": "markdown",
   "id": "bb0da61f",
   "metadata": {},
   "source": [
    "# 4. You are developing an employee management system for a company. The database should store employee information, including name, salary, department, and hire date. Managers should be able to view and update employee details.\n",
    "\n",
    "    1. Design the database schema for the employee management system.\n",
    "\n",
    "    2. Write Python code to connect to the database and retrieve a list of employees in a specific department.\n",
    "\n",
    "    3. Implement a feature to update an employee's salary."
   ]
  },
  {
   "cell_type": "code",
   "execution_count": null,
   "id": "6d81258a",
   "metadata": {},
   "outputs": [],
   "source": []
  },
  {
   "cell_type": "code",
   "execution_count": 147,
   "id": "233c1025",
   "metadata": {},
   "outputs": [
    {
     "name": "stdout",
     "output_type": "stream",
     "text": [
      "<mysql.connector.connection.MySQLConnection object at 0x0000011726C90CD0>\n"
     ]
    }
   ],
   "source": [
    "#  1. Design the database schema for the employee management system.\n",
    "import mysql.connector\n",
    "\n",
    "con=mysql.connector.connect(user = 'root',\n",
    "                            password='Nalluri@19',\n",
    "                            host ='127.0.0.1',\n",
    "                            database ='EMS'   #1. Design the database schema for the employee management system.\n",
    "                           )\n",
    "print(con)\n",
    "curs=con.cursor()"
   ]
  },
  {
   "cell_type": "code",
   "execution_count": 133,
   "id": "608db529",
   "metadata": {},
   "outputs": [],
   "source": [
    "d=(\"create table departments(dep_id int primary key,emp_id int,dep_Name varchar(50))\")\n",
    "e=(\"create table employees(emp_id int primary key,name varchar(50),salary int,dep_id int,hire_date date,foreign key (dep_id) references departments(dep_id))\")\n",
    "curs.execute(d)\n",
    "curs.execute(e)\n"
   ]
  },
  {
   "cell_type": "code",
   "execution_count": 134,
   "id": "322bb205",
   "metadata": {},
   "outputs": [
    {
     "name": "stdout",
     "output_type": "stream",
     "text": [
      "('departments',)\n",
      "('employees',)\n"
     ]
    }
   ],
   "source": [
    "curs.execute(\"show tables\")\n",
    "for i in curs:\n",
    "    print(i)"
   ]
  },
  {
   "cell_type": "code",
   "execution_count": 136,
   "id": "1adb504d",
   "metadata": {},
   "outputs": [
    {
     "name": "stdout",
     "output_type": "stream",
     "text": [
      "3 row(S) inserted via multiple insertion\n"
     ]
    }
   ],
   "source": [
    "s=(\"insert into departments(dep_id,emp_id,dep_name) values (%s,%s,%s) \")\n",
    "v=[(101,1,'it'),\n",
    "   (104,2,'cse'),\n",
    "   (107,3,'ece')\n",
    "  ]\n",
    "curs.executemany(s,v)\n",
    "con.commit()\n",
    "print(curs.rowcount,\"row(S) inserted via multiple insertion\")"
   ]
  },
  {
   "cell_type": "code",
   "execution_count": 137,
   "id": "b083d681",
   "metadata": {},
   "outputs": [
    {
     "name": "stdout",
     "output_type": "stream",
     "text": [
      "3 row(S) inserted via multiple insertion\n"
     ]
    }
   ],
   "source": [
    "s=(\"insert into employees(emp_id,name,salary,dep_id,hire_date) values (%s,%s,%s,%s,%s) \")\n",
    "v=[(1,'vamsi',10000,101,'2023-09-8'),\n",
    "   (2,'krish',12000,104,'2022-02-12'),\n",
    "   (3,'nalluri',50000,107,'2022-04-14')\n",
    "  ]\n",
    "curs.executemany(s,v)\n",
    "con.commit()\n",
    "print(curs.rowcount,\"row(S) inserted via multiple insertion\")"
   ]
  },
  {
   "cell_type": "code",
   "execution_count": 144,
   "id": "0ede7b34",
   "metadata": {},
   "outputs": [
    {
     "name": "stdout",
     "output_type": "stream",
     "text": [
      "(1, 'vamsi', 10000, 101, datetime.date(2023, 9, 8))\n",
      "(2, 'krish', 12000, 104, datetime.date(2022, 2, 12))\n",
      "(3, 'nalluri', 50000, 107, datetime.date(2022, 4, 14))\n"
     ]
    }
   ],
   "source": [
    "# curs = con.cursor()\n",
    "curs.execute(\"select * from employees \")\n",
    "r=curs.fetchall()\n",
    "for i in r:\n",
    "    print(i)"
   ]
  },
  {
   "cell_type": "code",
   "execution_count": 142,
   "id": "07c148a3",
   "metadata": {},
   "outputs": [
    {
     "name": "stdout",
     "output_type": "stream",
     "text": [
      "(2, 'krish', 12000, 104, datetime.date(2022, 2, 12), 104, 2, 'cse')\n"
     ]
    }
   ],
   "source": [
    "# 2. Write Python code to connect to the database and retrieve a list of employees in a specific department.\n",
    "curs.execute(\"select * from employees as e join departments d on e.emp_id=d.emp_id where e.dep_id=104\")\n",
    "for i in curs:\n",
    "    print(i)"
   ]
  },
  {
   "cell_type": "code",
   "execution_count": 115,
   "id": "1e516b57",
   "metadata": {},
   "outputs": [
    {
     "name": "stdout",
     "output_type": "stream",
     "text": [
      "3 row(S) deleted.\n"
     ]
    }
   ],
   "source": [
    "# curs.execute(\"delete from employees\")\n",
    "# con.commit()\n",
    "# print(curs.rowcount,\"row(S) deleted.\")"
   ]
  },
  {
   "cell_type": "code",
   "execution_count": 145,
   "id": "014f5650",
   "metadata": {},
   "outputs": [
    {
     "name": "stdout",
     "output_type": "stream",
     "text": [
      "1 row updated successfully\n"
     ]
    }
   ],
   "source": [
    "#  3. Implement a feature to update an employee's salary.\n",
    "\n",
    "curs.execute(\"update employees set salary=15000 where emp_id=1\")\n",
    "con.commit()\n",
    "print(curs.rowcount,\"row updated successfully\")\n"
   ]
  },
  {
   "cell_type": "code",
   "execution_count": 146,
   "id": "be6c4505",
   "metadata": {},
   "outputs": [
    {
     "name": "stdout",
     "output_type": "stream",
     "text": [
      "(1, 'vamsi', 15000, 101, datetime.date(2023, 9, 8))\n",
      "(2, 'krish', 12000, 104, datetime.date(2022, 2, 12))\n",
      "(3, 'nalluri', 50000, 107, datetime.date(2022, 4, 14))\n"
     ]
    }
   ],
   "source": [
    "curs.execute(\"select * from employees \")\n",
    "r=curs.fetchall()\n",
    "for i in r:\n",
    "    print(i)"
   ]
  },
  {
   "cell_type": "code",
   "execution_count": null,
   "id": "25c9b01d",
   "metadata": {},
   "outputs": [],
   "source": []
  }
 ],
 "metadata": {
  "kernelspec": {
   "display_name": "Python 3 (ipykernel)",
   "language": "python",
   "name": "python3"
  },
  "language_info": {
   "codemirror_mode": {
    "name": "ipython",
    "version": 3
   },
   "file_extension": ".py",
   "mimetype": "text/x-python",
   "name": "python",
   "nbconvert_exporter": "python",
   "pygments_lexer": "ipython3",
   "version": "3.11.4"
  }
 },
 "nbformat": 4,
 "nbformat_minor": 5
}
