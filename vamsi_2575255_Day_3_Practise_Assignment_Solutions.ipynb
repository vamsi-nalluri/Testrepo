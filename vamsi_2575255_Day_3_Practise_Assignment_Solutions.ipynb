{
 "cells": [
  {
   "cell_type": "markdown",
   "id": "7dceeb5c",
   "metadata": {},
   "source": [
    "# 1. Write a python function that copies a file reading and writing up to 50 characters at a time.\n"
   ]
  },
  {
   "cell_type": "code",
   "execution_count": 4,
   "id": "f8a4eada",
   "metadata": {},
   "outputs": [
    {
     "name": "stdout",
     "output_type": "stream",
     "text": [
      "Hi I'm vamsi. This is a text file 123 containg no \n"
     ]
    }
   ],
   "source": [
    "f=open('vams.txt','w')\n",
    "f.write(\"Hi I'm vamsi. This is a text file 123 containg no data regarding any employee.\")\n",
    "with open('vams.txt','r') as v:\n",
    "    content=v.readlines()\n",
    "    for i in content:\n",
    "        print(i[:50])"
   ]
  },
  {
   "cell_type": "code",
   "execution_count": 5,
   "id": "f84509cf",
   "metadata": {},
   "outputs": [],
   "source": [
    "def func(s, d):\n",
    "    try:\n",
    "        with open(s, 'r') as source:\n",
    "            with open(d, 'w') as destiny:\n",
    "                while True:\n",
    "                    content = source.read(50)  # Read up to 50 characters at a time\n",
    "                    if not content:\n",
    "                        break\n",
    "                    destiny.write(content)\n",
    "            \n",
    "    except Exception as e:\n",
    "        print(\"Error occurred:\\t\", e)\n",
    "\n",
    "s = 'vams.txt'\n",
    "d= 'krish.txt'\n",
    "func(s,d)\n"
   ]
  },
  {
   "cell_type": "code",
   "execution_count": 6,
   "id": "5c0d5844",
   "metadata": {},
   "outputs": [
    {
     "name": "stdout",
     "output_type": "stream",
     "text": [
      "Hi I'm vamsi. This is a text file 123 containg no data regarding any employee.\n"
     ]
    }
   ],
   "source": [
    "with open(d,'r') as n:\n",
    "    for i in n:\n",
    "        print(i)"
   ]
  },
  {
   "cell_type": "markdown",
   "id": "cc6c7a90",
   "metadata": {},
   "source": [
    "# 2. Print all numbers present in the text file and print the number of blank spaces in that file.\n"
   ]
  },
  {
   "cell_type": "code",
   "execution_count": 7,
   "id": "1f60a180",
   "metadata": {},
   "outputs": [
    {
     "name": "stdout",
     "output_type": "stream",
     "text": [
      "Number of blank spaces in that file = 14\n",
      "All numbers present in the text file [1, 2, 3]\n"
     ]
    }
   ],
   "source": [
    "with open(d,'r') as n:\n",
    "    l=[]\n",
    "    m=0\n",
    "    for i in n:\n",
    "        for char in i:\n",
    "            if char==' ':\n",
    "                m+=1\n",
    "            elif char.isdigit():\n",
    "                l.append(int(char))\n",
    "print(\"Number of blank spaces in that file =\",m)\n",
    "print(\"All numbers present in the text file\",l)"
   ]
  },
  {
   "cell_type": "markdown",
   "id": "6b29b254",
   "metadata": {},
   "source": [
    "# 3. Write a function called sed that takes as arguments a pattern string, a replacement string. and two filenames; it should read the first file and write the contents into the second file (creating it if necessary). If the pattern string appears anywhere in the file, it should be replaced with the replacement string. If an error occurs while opening, reading, writing. or closing files, your program should catch the exception, print an error message, and exit.\n"
   ]
  },
  {
   "cell_type": "code",
   "execution_count": 9,
   "id": "ba407750",
   "metadata": {},
   "outputs": [
    {
     "name": "stdout",
     "output_type": "stream",
     "text": [
      "Hi I'm vamsi. This is a text file 123 containg no data regarding any employee. \n",
      "\n",
      "Hi I'm v AbC msi. This is  AbC  text file 123 cont AbC ing no d AbC t AbC  reg AbC rding  AbC ny employee.  \n",
      "\n"
     ]
    }
   ],
   "source": [
    "def func(s, d,old,new):\n",
    "    try:\n",
    "        with open(s, 'r') as source:\n",
    "            with open(d, 'w') as destiny:\n",
    "                while True:\n",
    "                    content = source.read()\n",
    "                    print(content,end=' ')\n",
    "                    print('\\n')\n",
    "                    if not content:\n",
    "                        break\n",
    "                    content=content.replace(old,new)\n",
    "                    destiny.write(content)\n",
    "                    print(content,end=' ')        \n",
    "    except Exception as e:\n",
    "        print(\"Error occurred:\\t\", e)\n",
    "\n",
    "old='a'\n",
    "new=' AbC '\n",
    "s = 'vams.txt'\n",
    "d= 'Replaced_from_vams.txt'\n",
    "func(s,d,old,new)\n"
   ]
  },
  {
   "cell_type": "markdown",
   "id": "ee00780c",
   "metadata": {},
   "source": [
    "# 4. Log File Analysis: You have a log file containing records of user activities on a website. Each line in the file represents a log entry with details like timestamp, user ID, and action performed. Your task is to analyze this log file.\n",
    "\n",
    "a. Write Python code to read the log file and extract specific information, such as the number of unique users or the most common action.\n",
    "\n",
    "b. How would you handle large log files efficiently without loading the entire file into memory?"
   ]
  },
  {
   "cell_type": "code",
   "execution_count": 20,
   "id": "e15232b2",
   "metadata": {},
   "outputs": [
    {
     "name": "stdout",
     "output_type": "stream",
     "text": [
      "Number of Unique Users: 1\n",
      "\n",
      "Most Common Action:  branch=c5558820f367665758d4d719b7553a02ff4954e0 -> 3 times\n"
     ]
    }
   ],
   "source": [
    "import csv\n",
    "from collections import Counter\n",
    "\n",
    "unq = set()\n",
    "ac = Counter()\n",
    "log = \"nalluri.txt\"\n",
    "\n",
    "with open(log, \"r\") as v:\n",
    "    r = csv.reader(v)\n",
    "    for row in r:\n",
    "        if len(row) >= 3:\n",
    "            timestamp = row[0]\n",
    "            user_id = row[1]\n",
    "            action = row[2]\n",
    "            unq.add(user_id)\n",
    "            ac[action] += 1\n",
    "\n",
    "mca, mcc = ac.most_common(1)[0]\n",
    "print(\"Number of Unique Users:\", len(unq))\n",
    "print(f\"\\nMost Common Action: {mca} -> {mcc} times\")\n"
   ]
  },
  {
   "cell_type": "markdown",
   "id": "a66b3897",
   "metadata": {},
   "source": [
    "# 5. Text File Search and Replace: You have a text file with a large amount of text, and you want to search for specific words or phrases and replace them with new content."
   ]
  },
  {
   "cell_type": "code",
   "execution_count": 12,
   "id": "88731b3f",
   "metadata": {},
   "outputs": [
    {
     "name": "stdout",
     "output_type": "stream",
     "text": [
      "Mphasis is an Indian multinational information _technology_ services __and__ consulting company based in Bengaluru. The company provides infrastructure _technology_ __and__ applications outsourcing services, as well as architecture guidance, application development __and__ integration, __and__ application management services. It serves financial services, telecom, logistics, __and__ _technology_ industries. Mphasis was ranked 7 in India IT companies __and__ overall 189 by Fortune India 500 in 2019. Mphasis applies next-generation _technology_ to help enterprises transform businesses globally. Customer centricity is foundational to Mphasis __and__ is reflected in the Mphasisâ€™ Front2Backâ„¢ Transformation approach. Front2Backâ„¢ uses the exponential power of cloud __and__ cognitive to provide hyper-personalized digital experience to clients __and__ their end customers. Mphasis has more than 60 sales __and__ delivery centers in 19 countries.\n",
      "\n",
      " "
     ]
    }
   ],
   "source": [
    "import re\n",
    "\n",
    "def func(s, replacements):\n",
    "    try:\n",
    "        with open(s, 'r') as source:\n",
    "            content = source.read()\n",
    "            for old, new in replacements.items():\n",
    "                content = re.sub(r'\\b' + re.escape(old) + r'\\b', new, content)\n",
    "        with open(s, 'w') as source:\n",
    "            source.write(content)\n",
    "            source.flush()\n",
    "        print(content, end=' ')\n",
    "    except Exception as e:\n",
    "        print(\"Error occurred:\\t\", e)\n",
    "\n",
    "replacements = {\n",
    "    'and': '__and__',\n",
    "    'technology': '_technology_',    #in this dictionary we can add any new content as required\n",
    "}\n",
    "\n",
    "s = 'repl.txt'\n",
    "func(s, replacements)\n"
   ]
  },
  {
   "cell_type": "markdown",
   "id": "7519ec20",
   "metadata": {},
   "source": [
    "# 6. Write a Python script that concatenates the contents of multiple text files into a single output file. Allow the user to specify the input files and the output file."
   ]
  },
  {
   "cell_type": "code",
   "execution_count": 13,
   "id": "d2110d83",
   "metadata": {},
   "outputs": [
    {
     "name": "stdout",
     "output_type": "stream",
     "text": [
      "Enter the name of an input file (or press Enter to finish): a.txt\n",
      "Enter the name of an input file (or press Enter to finish): b.txt\n",
      "Enter the name of an input file (or press Enter to finish): \n",
      "Enter the name of the output file: c.txt\n",
      "Concatenated 2 files into c.txt\n",
      "Output file :\n",
      " Nalluri venkata \n",
      "vamsi krishna\n",
      "\n",
      "\n"
     ]
    }
   ],
   "source": [
    "def con(inp, out):\n",
    "    try:\n",
    "        with open(out, 'w') as output:\n",
    "            for i in inp:\n",
    "                with open(i, 'r') as input:\n",
    "                    output.write(input.read() + '\\n')\n",
    "        print(f\"Concatenated {len(inp)} files into {out}\")\n",
    "        with open(out,'r') as v:\n",
    "            content=v.read()\n",
    "            print(\"Output file :\\n\",content)\n",
    "    except Exception as e:\n",
    "        print(f\"Error occurred: {e}\")\n",
    "inp = []\n",
    "while True:\n",
    "    name = input(\"Enter the name of an input file (or press Enter to finish): \")\n",
    "    if not name:\n",
    "        break\n",
    "    inp.append(name)\n",
    "out = input(\"Enter the name of the output file: \")\n",
    "con(inp,out)\n",
    "print()\n"
   ]
  },
  {
   "cell_type": "markdown",
   "id": "cdb52344",
   "metadata": {},
   "source": [
    "# 7. You are given a text file named input.txt containing a list of words, one word per line. Your task is to create a Python program that reads the contents of input.txt, processes the words, and writes the result to an output file named output.txt.\n",
    "\n",
    "a. The program should perform the following operations:\n",
    "\n",
    "        i. Read the words from input.txt.\n",
    "\n",
    "        ii. For each word in the input file, calculate the length of the word and store it in a dictionary where the word is the             key, and the length is the value.\n",
    "\n",
    "        iii. Write the word-length dictionary to output.txt in the following format:\n",
    "\n",
    "                Word1: Length1\n",
    "                Word2: Length2\n",
    "                . . .\n",
    "\n",
    "        iv. Close both input and output files properly.\n",
    "\n",
    "        v. Write Python code to accomplish this task. Ensure proper error handling for file operations.\n",
    "\n",
    "            Sample Input('input.txt')\n",
    "                        apple\n",
    "\n",
    "                        banana\n",
    "\n",
    "                        cherry\n",
    "                        \n",
    "                        date\n",
    "\n",
    "            Sample Output('output.txt')\n",
    "\n",
    "                        apple: 5\n",
    "                        \n",
    "                        banana: 6\n",
    "                        \n",
    "                        cherry: 6\n",
    "                        \n",
    "                        date: 4\n",
    "\n",
    "    Note: Your code should work for any input file containing words and produce the corresponding word-length dictionary in               the output file."
   ]
  },
  {
   "cell_type": "code",
   "execution_count": 14,
   "id": "0671d313",
   "metadata": {},
   "outputs": [
    {
     "name": "stdout",
     "output_type": "stream",
     "text": [
      "Enter the name of an input file name: fruit.txt\n",
      "Enter the name of an output file name: f.txt\n"
     ]
    },
    {
     "data": {
      "text/plain": [
       "{'banana': 6,\n",
       " 'mango': 5,\n",
       " 'apple': 5,\n",
       " 'orange': 6,\n",
       " 'pine apple': 9,\n",
       " 'water melon': 10}"
      ]
     },
     "execution_count": 14,
     "metadata": {},
     "output_type": "execute_result"
    }
   ],
   "source": [
    "def convert(inp,out):\n",
    "    \n",
    "    try:\n",
    "        d={}\n",
    "        with open(inp,'r') as source:\n",
    "            for i in source:\n",
    "                content=i.strip()\n",
    "                l=len(content.replace(\" \",\"\"))\n",
    "                d[content]=l\n",
    "\n",
    "        with open(out,'w')as destiny:\n",
    "            for content,l in d.items():\n",
    "                destiny.write(f\"{content} : {l}\\n\")\n",
    "        return d\n",
    "    \n",
    "    except Exception as e:\n",
    "        print(\"Something went wrong : \",e)\n",
    "\n",
    "\n",
    "inp = input(\"Enter the name of an input file name: \")\n",
    "out = input(\"Enter the name of an output file name: \")\n",
    "convert(inp,out)\n",
    "\n"
   ]
  },
  {
   "cell_type": "markdown",
   "id": "ec591cf3",
   "metadata": {},
   "source": [
    "# 8. Assume that you are developing a student gradebook system for a school. The system should allow teachers to input student grades for various subjects, store the data in files, and provide students with the ability to view their grades. Design a Python program that accomplishes the following tasks:\n",
    "\n",
    "i. Teachers should be able to input grades for students in different subjects.\n",
    "\n",
    "ii. Store the student grade data in separate text files for each subject.\n",
    "\n",
    "iii. Students should be able to view their grades for each subject.\n",
    "\n",
    "iv. Implement error handling for file operations, such as file not found or permission issues."
   ]
  },
  {
   "cell_type": "code",
   "execution_count": 15,
   "id": "90c980e9",
   "metadata": {},
   "outputs": [
    {
     "name": "stdout",
     "output_type": "stream",
     "text": [
      "\n",
      "1.Teacher\n",
      "2.student\n",
      "3.Exit\n",
      "Enter the Number: 1\n",
      "\n",
      "1. Add grade\n",
      "2. View grades\n",
      "3. Exit\n",
      "\n",
      "Enter your choice: 1\n",
      "Enter the subject name: hindi\n",
      "Enter the student name: rama\n",
      "Enter the grade: b\n",
      "\n",
      "1.Teacher\n",
      "2.student\n",
      "3.Exit\n",
      "Enter the Number: 2\n",
      "1.View grades\n",
      "2.Exit\n",
      "\n",
      "Enter your choice: 1\n",
      "Enter the subject name: hindi\n",
      "\t rama b\n",
      "\n",
      "1.Teacher\n",
      "2.student\n",
      "3.Exit\n",
      "Enter the Number: 3\n",
      "you choosed to exit\n"
     ]
    }
   ],
   "source": [
    "import os\n",
    "\n",
    "def add_grade(subject, student, grade):\n",
    "    with open(f\"{subject}.txt\", \"a\") as file:\n",
    "#         print('\\n')\n",
    "        file.write(f\"{student} {grade}\\n\")\n",
    "        \n",
    "def view_grades(subject):\n",
    "    try:\n",
    "        with open(f\"{subject}.txt\", \"r\") as file:\n",
    "            for line in file:\n",
    "                print('\\n',line.strip())\n",
    "    except FileNotFoundError:\n",
    "        print(f\"The file '{subject}.txt' does not exist.\")\n",
    "def details():\n",
    "    subject = input(\"Enter the subject name: \")\n",
    "    student = input(\"Enter the student name: \")\n",
    "    grade = input(\"Enter the grade: \")\n",
    "    add_grade(subject, student, grade)\n",
    "    \n",
    "def stu():\n",
    "    subject = input(\"Enter the subject name: \")\n",
    "    view_grades(subject)\n",
    "    \n",
    "\n",
    "def main():\n",
    "    while True:\n",
    "        print(\"\\n1.Teacher\\n2.student\\n3.Exit\")\n",
    "        n=int(input(\"Enter the Number: \"))\n",
    "        if n==1:\n",
    "            print(\"\\n1. Add grade\\n2. View grades\\n3. Exit\\n\")\n",
    "            choice = input(\"Enter your choice: \")\n",
    "            if choice == \"1\":\n",
    "                details() \n",
    "            elif choice == \"2\":\n",
    "                stu()\n",
    "            elif choice == \"3\":\n",
    "                print(\"you choosed to exit\")\n",
    "                break\n",
    "            else:\n",
    "                print(\"Invalid choice.\")\n",
    "        elif n==2:\n",
    "            print(\"1.View grades\\n2.Exit\\n\")\n",
    "            choice = input(\"Enter your choice: \") \n",
    "            if choice == \"1\":\n",
    "                stu()\n",
    "            elif choice == \"2\":\n",
    "                break\n",
    "            else:\n",
    "                print(\"Invalid choice...Terminated\")\n",
    "        elif n ==3:\n",
    "            print(\"you choosed to exit\")\n",
    "            break\n",
    "        else:\n",
    "            print(\"Invalid choice...Terminated\")\n",
    "            break\n",
    "            \n",
    "\n",
    "if __name__ == \"__main__\":\n",
    "    main()\n"
   ]
  },
  {
   "cell_type": "code",
   "execution_count": null,
   "id": "0b2dcb8c",
   "metadata": {},
   "outputs": [],
   "source": []
  }
 ],
 "metadata": {
  "kernelspec": {
   "display_name": "Python 3 (ipykernel)",
   "language": "python",
   "name": "python3"
  },
  "language_info": {
   "codemirror_mode": {
    "name": "ipython",
    "version": 3
   },
   "file_extension": ".py",
   "mimetype": "text/x-python",
   "name": "python",
   "nbconvert_exporter": "python",
   "pygments_lexer": "ipython3",
   "version": "3.11.4"
  }
 },
 "nbformat": 4,
 "nbformat_minor": 5
}
